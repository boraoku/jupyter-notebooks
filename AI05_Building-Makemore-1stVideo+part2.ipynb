{
 "cells": [
  {
   "cell_type": "code",
   "execution_count": 1,
   "id": "21ba1ad1",
   "metadata": {},
   "outputs": [],
   "source": [
    "#start at minute mark 1h:26m:17s for makemore\n",
    "import matplotlib.pyplot as plt\n",
    "%matplotlib inline\n",
    "import torch\n",
    "import torch.nn.functional as F"
   ]
  },
  {
   "cell_type": "code",
   "execution_count": 2,
   "id": "f18dc205",
   "metadata": {},
   "outputs": [],
   "source": [
    "words = open('names.txt','r').read().splitlines()"
   ]
  },
  {
   "cell_type": "code",
   "execution_count": 3,
   "id": "727816a8",
   "metadata": {},
   "outputs": [],
   "source": [
    "chars = sorted(list(set(''.join(words))))\n",
    "stoi = {s:i+1 for i,s in enumerate(chars)}\n",
    "stoi['.'] = 0\n",
    "itos = {i:s for s, i in stoi.items()} "
   ]
  },
  {
   "cell_type": "code",
   "execution_count": 4,
   "id": "22c76297",
   "metadata": {},
   "outputs": [],
   "source": [
    "import torch.nn.functional as F"
   ]
  },
  {
   "cell_type": "code",
   "execution_count": 5,
   "id": "5efb9c66",
   "metadata": {},
   "outputs": [
    {
     "name": "stdout",
     "output_type": "stream",
     "text": [
      ". e\n",
      "e m\n",
      "m m\n",
      "m a\n",
      "a .\n"
     ]
    }
   ],
   "source": [
    "#Use NN for probability generation\n",
    "\n",
    "#create the training set of biagrams (x, y)\n",
    "xs, ys = [], []\n",
    "\n",
    "for w in words[:1]:\n",
    "    chs = ['.'] + list(w)+ ['.'] \n",
    "    for ch1, ch2 in zip(chs, chs[1:]):\n",
    "        print(ch1, ch2)\n",
    "        ix1 = stoi[ch1]\n",
    "        ix2 = stoi[ch2]\n",
    "        xs.append(ix1)\n",
    "        ys.append(ix2)\n",
    "        \n",
    "xs = torch.tensor(xs) #note: tensor infers the dtype, while if Tensor is used it will be FloatTensor\n",
    "ys = torch.tensor(ys) "
   ]
  },
  {
   "cell_type": "code",
   "execution_count": 6,
   "id": "a011c295",
   "metadata": {},
   "outputs": [],
   "source": [
    "#randomly initialize 27 neuros weights. each neuron receieves 27 inputs\n",
    "g = torch.Generator().manual_seed(2147483647)\n",
    "W = torch.randn((27,27), generator=g, requires_grad=True) #requires_grad as grad for backward pass"
   ]
  },
  {
   "cell_type": "code",
   "execution_count": 7,
   "id": "49a93c1c",
   "metadata": {},
   "outputs": [],
   "source": [
    "#forward pass - including softmax section\n",
    "#all can be backpropagated since they are differentiable operations\n",
    "xenc = F.one_hot(xs, num_classes=27).float() #input to the network: one-hot encoding\n",
    "logits = xenc @ W #predict log-counts\n",
    "\n",
    "#next 2 lines are together called a 'softmax' layer in a NN -exp value and then normalise the sum to 1 (probabilities)\n",
    "counts = logits.exp() #counts, equivalent to N\n",
    "probs = counts / counts.sum(1, keepdims=True) #normalisation - probabilities for next character"
   ]
  },
  {
   "cell_type": "code",
   "execution_count": 8,
   "id": "bce0b35d",
   "metadata": {},
   "outputs": [
    {
     "data": {
      "text/plain": [
       "tensor([0.0123, 0.0181, 0.0267, 0.0737, 0.0150], grad_fn=<IndexBackward0>)"
      ]
     },
     "execution_count": 8,
     "metadata": {},
     "output_type": "execute_result"
    }
   ],
   "source": [
    "probs[0, 5], probs[1, 13], probs[2, 13], probs[3, 1], probs[4,0] #probabilities of character indexes (y)\n",
    "#automate way of during this\n",
    "probs[torch.arange(5), ys] #arange gives back 0..5"
   ]
  },
  {
   "cell_type": "code",
   "execution_count": 9,
   "id": "6902c7db",
   "metadata": {},
   "outputs": [
    {
     "data": {
      "text/plain": [
       "tensor(3.7693, grad_fn=<NegBackward0>)"
      ]
     },
     "execution_count": 9,
     "metadata": {},
     "output_type": "execute_result"
    }
   ],
   "source": [
    "#calculate loss, as discussed at the end of first part\n",
    "loss = -probs[torch.arange(5), ys].log().mean()\n",
    "loss"
   ]
  },
  {
   "cell_type": "code",
   "execution_count": 10,
   "id": "c48552a3",
   "metadata": {},
   "outputs": [],
   "source": [
    "#backward pass\n",
    "W.grad = None #zerograd\n",
    "loss.backward()"
   ]
  },
  {
   "cell_type": "code",
   "execution_count": 11,
   "id": "5ba8c702",
   "metadata": {},
   "outputs": [],
   "source": [
    "#update using calculated grads - gradient descent\n",
    "W.data += -0.1 * W.grad \n",
    "#go back to forward pass and calculate loss again to see the improvement"
   ]
  },
  {
   "cell_type": "code",
   "execution_count": 12,
   "id": "dad9c37d",
   "metadata": {},
   "outputs": [
    {
     "name": "stdout",
     "output_type": "stream",
     "text": [
      "number of example:  228146\n"
     ]
    }
   ],
   "source": [
    "#lets combine all to automate gradient descent\n",
    "#and lets use all words\n",
    "\n",
    "xs, ys = [], []\n",
    "\n",
    "for w in words:\n",
    "    chs = ['.'] + list(w)+ ['.'] \n",
    "    for ch1, ch2 in zip(chs, chs[1:]):\n",
    "        ix1 = stoi[ch1]\n",
    "        ix2 = stoi[ch2]\n",
    "        xs.append(ix1)\n",
    "        ys.append(ix2)\n",
    "        \n",
    "xs = torch.tensor(xs)\n",
    "ys = torch.tensor(ys) \n",
    "num = xs.nelement()\n",
    "print('number of example: ', num)\n",
    "\n",
    "#init the network\n",
    "g = torch.Generator().manual_seed(2147483647)\n",
    "W = torch.randn((27,27), generator=g, requires_grad=True)"
   ]
  },
  {
   "cell_type": "code",
   "execution_count": 13,
   "id": "c5a5222f",
   "metadata": {
    "scrolled": true
   },
   "outputs": [
    {
     "name": "stdout",
     "output_type": "stream",
     "text": [
      "3.768618583679199\n",
      "3.3788065910339355\n",
      "3.161090850830078\n",
      "3.027186155319214\n",
      "2.9344842433929443\n",
      "2.867231607437134\n",
      "2.8166542053222656\n",
      "2.777146339416504\n",
      "2.7452542781829834\n",
      "2.7188305854797363\n",
      "2.696505308151245\n",
      "2.6773722171783447\n",
      "2.6608054637908936\n",
      "2.6463515758514404\n",
      "2.633664846420288\n",
      "2.622471570968628\n",
      "2.6125476360321045\n",
      "2.6037068367004395\n",
      "2.595794916152954\n",
      "2.5886809825897217\n",
      "2.5822560787200928\n",
      "2.576429843902588\n",
      "2.5711236000061035\n",
      "2.566272735595703\n",
      "2.5618228912353516\n",
      "2.5577263832092285\n",
      "2.5539441108703613\n",
      "2.5504424571990967\n",
      "2.5471925735473633\n",
      "2.5441696643829346\n",
      "2.5413525104522705\n",
      "2.538721799850464\n",
      "2.536262035369873\n",
      "2.5339579582214355\n",
      "2.5317976474761963\n",
      "2.5297679901123047\n",
      "2.527860164642334\n",
      "2.5260636806488037\n",
      "2.5243704319000244\n",
      "2.522773027420044\n",
      "2.521263837814331\n",
      "2.519836902618408\n",
      "2.5184857845306396\n",
      "2.5172054767608643\n",
      "2.515990734100342\n",
      "2.5148372650146484\n",
      "2.5137407779693604\n",
      "2.51269793510437\n",
      "2.511704921722412\n",
      "2.5107579231262207\n",
      "2.509854793548584\n",
      "2.5089924335479736\n",
      "2.5081682205200195\n",
      "2.507380485534668\n",
      "2.5066258907318115\n",
      "2.5059032440185547\n",
      "2.5052103996276855\n",
      "2.5045459270477295\n",
      "2.5039076805114746\n",
      "2.503295421600342\n",
      "2.5027060508728027\n",
      "2.5021398067474365\n",
      "2.5015945434570312\n",
      "2.5010693073272705\n",
      "2.500562906265259\n",
      "2.500075578689575\n",
      "2.4996049404144287\n",
      "2.4991507530212402\n",
      "2.4987118244171143\n",
      "2.49828839302063\n",
      "2.4978787899017334\n",
      "2.497483015060425\n",
      "2.4970998764038086\n",
      "2.4967293739318848\n",
      "2.496370315551758\n",
      "2.496022939682007\n",
      "2.4956860542297363\n",
      "2.4953596591949463\n",
      "2.4950428009033203\n",
      "2.4947361946105957\n",
      "2.494438648223877\n",
      "2.494149684906006\n",
      "2.4938690662384033\n",
      "2.4935970306396484\n",
      "2.4933323860168457\n",
      "2.493074893951416\n",
      "2.4928252696990967\n",
      "2.492582321166992\n",
      "2.4923462867736816\n",
      "2.492116928100586\n",
      "2.4918935298919678\n",
      "2.491675853729248\n",
      "2.491464376449585\n",
      "2.491258382797241\n",
      "2.491058111190796\n",
      "2.4908626079559326\n",
      "2.4906721115112305\n",
      "2.4904870986938477\n",
      "2.4903066158294678\n",
      "2.4901301860809326\n"
     ]
    }
   ],
   "source": [
    "#gradient descent\n",
    "for k in range(100):\n",
    "    \n",
    "    #forward pass \n",
    "    xenc = F.one_hot(xs, num_classes=27).float() #input to the network: one-hot encoding\n",
    "    logits = xenc @ W #predict log-counts\n",
    "    counts = logits.exp() #counts, equivalent to N\n",
    "    probs = counts / counts.sum(1, keepdims=True) #normalisation - probabilities for next character\n",
    "    loss = -probs[torch.arange(num), ys].log().mean() + 0.01*(W**2).mean() #regularization (like smoothing in the first part)\n",
    "    print(loss.item())\n",
    "    \n",
    "    #backward pass\n",
    "    W.grad = None #zerograd\n",
    "    loss.backward()\n",
    "    \n",
    "    #update\n",
    "    W.data += -50 * W.grad "
   ]
  },
  {
   "cell_type": "code",
   "execution_count": 14,
   "id": "0d28a12e",
   "metadata": {},
   "outputs": [
    {
     "data": {
      "text/plain": [
       "<matplotlib.image.AxesImage at 0x12e559690>"
      ]
     },
     "execution_count": 14,
     "metadata": {},
     "output_type": "execute_result"
    },
    {
     "data": {
      "image/png": "[encoded data removed]",
      "text/plain": [
       "<Figure size 640x480 with 1 Axes>"
      ]
     },
     "metadata": {},
     "output_type": "display_data"
    }
   ],
   "source": [
    "plt.imshow(W.detach().numpy())"
   ]
  },
  {
   "cell_type": "code",
   "execution_count": 15,
   "id": "1ee2f548",
   "metadata": {},
   "outputs": [
    {
     "name": "stdout",
     "output_type": "stream",
     "text": [
      "mor.\n",
      "axx.\n",
      "minaymoryles.\n",
      "kondmaisah.\n",
      "anchthizarie.\n"
     ]
    }
   ],
   "source": [
    "#finally lets sample from NN model\n",
    "g = torch.Generator().manual_seed(2147483647)\n",
    "\n",
    "for i in range(5):\n",
    "    \n",
    "    out = []\n",
    "    ix = 0\n",
    "    while True:\n",
    "        xenc = F.one_hot(torch.tensor([ix]), num_classes=27).float()\n",
    "        logits = xenc @ W #predict log-counts\n",
    "        counts = logits.exp() #count, equivalent to N\n",
    "        p = counts / counts.sum(1, keepdims=True) #probs for next character\n",
    "        \n",
    "        #draw from p by using a normal distribution - see input line 23&23 of part 1\n",
    "        ix = torch.multinomial(p, num_samples=1, replacement=True, generator=g).item()\n",
    "        out.append(itos[ix])\n",
    "        if ix == 0:\n",
    "            break\n",
    "        \n",
    "    print(''.join(out))\n",
    "    \n",
    "#below should be the same output as part 1 - see input line 25"
   ]
  }
 ],
 "metadata": {
  "kernelspec": {
   "display_name": "Python 3.10.8 64-bit",
   "language": "python",
   "name": "python3"
  },
  "language_info": {
   "codemirror_mode": {
    "name": "ipython",
    "version": 3
   },
   "file_extension": ".py",
   "mimetype": "text/x-python",
   "name": "python",
   "nbconvert_exporter": "python",
   "pygments_lexer": "ipython3",
   "version": "3.10.8"
  },
  "vscode": {
   "interpreter": {
    "hash": "26de051ba29f2982a8de78e945f0abaf191376122a1563185a90213a26c5da77"
   }
  }
 },
 "nbformat": 4,
 "nbformat_minor": 5
}
