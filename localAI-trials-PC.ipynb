{
 "cells": [
  {
   "cell_type": "code",
   "execution_count": 1,
   "metadata": {},
   "outputs": [],
   "source": [
    "# Prompt\n",
    "# write a python function to extract email from a string"
   ]
  },
  {
   "cell_type": "code",
   "execution_count": 2,
   "metadata": {},
   "outputs": [
    {
     "name": "stdout",
     "output_type": "stream",
     "text": [
      "('John@example.com', ' 123123a askid@me.com ashodh12938123')\n"
     ]
    }
   ],
   "source": [
    "# CPU only\n",
    "\n",
    "import re\n",
    "def extract_email(string):\n",
    "    # Use a regular expression to capture the email address\n",
    "    matches = re.findall(r'\\b[a-zA-Z0-9._%+-]+@[a-zA-Z0-9.-]+\\.[a-zA-Z]{2,}\\b', string)\n",
    "\n",
    "    # Return the extracted email address and separator\n",
    "    return matches[0], string.split(matches[0])[1]\n",
    "email_address = extract_email(\"broa are John@example.com 123123a askid@me.com ashodh12938123\")\n",
    "print(email_address)"
   ]
  },
  {
   "cell_type": "code",
   "execution_count": 3,
   "metadata": {},
   "outputs": [
    {
     "name": "stdout",
     "output_type": "stream",
     "text": [
      "John@example.com\n"
     ]
    }
   ],
   "source": [
    "# GPU Acceleration with n_gpu_layers 10 and 20\n",
    "\n",
    "import re\n",
    "def extract_email(string): \n",
    "    #pattern = r'\\b[a-zA-Z0-9._%+-]+@[a-zA-Z0-9.-]+\\.[a-zA-Z]{2,}\\b'    #n_gpu_layers 10\n",
    "    pattern =  r\"[a-zA-Z0-9._%+-]+@[a-zA-Z0-9.-]+\\.[a-zA-Z]{2,}\"        #n_gpu_layers 20\n",
    "\n",
    "    match = re.search(pattern, string)\n",
    "    if match:\n",
    "       return match.group()\n",
    "    else:\n",
    "        return None\n",
    "\n",
    "email_address = extract_email(\"broa are John@example.com 123123a askid@me.com ashodh12938123\")\n",
    "print(email_address)"
   ]
  },
  {
   "cell_type": "code",
   "execution_count": 4,
   "metadata": {},
   "outputs": [
    {
     "name": "stdout",
     "output_type": "stream",
     "text": [
      "['John@example.com', 'askid@me.com']\n"
     ]
    }
   ],
   "source": [
    "# GPU Acceleration with n_gpu_layers 30 - maximum for Quadro RTX 3000 (6GB Memory)\n",
    "\n",
    "import re\n",
    "def extract_emails(string): \n",
    "\n",
    "    pattern =  r\"[a-zA-Z0-9._%+-]+@[a-zA-Z0-9.-]+\\.[a-zA-Z]{2,}\"\n",
    "    emails = []\n",
    "    matches = re.findall(pattern, string)\n",
    "    for match in matches:\n",
    "        emails.append(match)\n",
    "    return emails\n",
    "\n",
    "email_address = extract_emails(\"broa are John@example.com 123123a askid@me.com ashodh12938123\")\n",
    "print(email_address)"
   ]
  }
 ],
 "metadata": {
  "kernelspec": {
   "display_name": "Python 3 (ipykernel)",
   "language": "python",
   "name": "python3"
  },
  "language_info": {
   "codemirror_mode": {
    "name": "ipython",
    "version": 3
   },
   "file_extension": ".py",
   "mimetype": "text/x-python",
   "name": "python",
   "nbconvert_exporter": "python",
   "pygments_lexer": "ipython3",
   "version": "3.11.3"
  }
 },
 "nbformat": 4,
 "nbformat_minor": 2
}
