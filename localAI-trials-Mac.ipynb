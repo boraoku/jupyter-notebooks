{
 "cells": [
  {
   "cell_type": "code",
   "execution_count": 1,
   "id": "97821cd9",
   "metadata": {},
   "outputs": [],
   "source": [
    "# Prompt\n",
    "# write a python function to extract email from a string"
   ]
  },
  {
   "cell_type": "code",
   "execution_count": 2,
   "id": "4beecaf3",
   "metadata": {},
   "outputs": [
    {
     "name": "stdout",
     "output_type": "stream",
     "text": [
      "['John@example.com', 'askid@me.com']\n"
     ]
    }
   ],
   "source": [
    "# CPU only - Mac 7B- q8_0 ggml (same as PC: legacy quantization method)\n",
    "\n",
    "import re\n",
    "def extract_emails(string):\n",
    "    # Use a regular expression to capture the email address\n",
    "    # GPU-PC        r\"[a-zA-Z0-9._%+-]+@[a-zA-Z0-9.-]+\\.[a-zA-Z]{2,}\"\n",
    "    # CPU-PC        r'\\b[a-zA-Z0-9._%+-]+@[a-zA-Z0-9.-]+\\.[a-zA-Z]{2,}\\b'\n",
    "    email_pattern = r'\\b[a-zA-Z0-9._%+-]+@[a-zA-Z0-9.-]+\\.[a-zA-Z]{2,}\\b'\n",
    "    return re.findall(email_pattern, string)\n",
    "email_address = extract_emails(\"broa are John@example.com 123123a askid@me.com ashodh12938123\")\n",
    "print(email_address)"
   ]
  },
  {
   "cell_type": "code",
   "execution_count": 3,
   "id": "be8ccdcc",
   "metadata": {},
   "outputs": [
    {
     "name": "stdout",
     "output_type": "stream",
     "text": [
      "['John@example.com', 'askid@me.com']\n"
     ]
    }
   ],
   "source": [
    "# Metal GPU - Mac 7B- q6_k ggml (6bit quantization method)\n",
    "\n",
    "def extract_emails(text):\n",
    "    # Use a regular expression to match email addresses\n",
    "    # GPU-PC  r\"[a-zA-Z0-9._%+-]+@[a-zA-Z0-9.-]+\\.[a-zA-Z]{2,}\"\n",
    "    # CPU-PC  r'\\b[a-zA-Z0-9._%+-]+@[a-zA-Z0-9.-]+\\.[a-zA-Z]{2,}\\b'\n",
    "    pattern = r'\\b[a-zA-Z0-9._%+-]+@[a-zA-Z0-9.-]+\\.[a-zA-Z]{2,}\\b'\n",
    "    emails = re.findall(pattern, text)\n",
    "    return emails\n",
    "email_address = extract_emails(\"broa are John@example.com 123123a askid@me.com ashodh12938123\")\n",
    "print(email_address)"
   ]
  }
 ],
 "metadata": {
  "kernelspec": {
   "display_name": "Python 3 (ipykernel)",
   "language": "python",
   "name": "python3"
  },
  "language_info": {
   "codemirror_mode": {
    "name": "ipython",
    "version": 3
   },
   "file_extension": ".py",
   "mimetype": "text/x-python",
   "name": "python",
   "nbconvert_exporter": "python",
   "pygments_lexer": "ipython3",
   "version": "3.11.3"
  }
 },
 "nbformat": 4,
 "nbformat_minor": 5
}
