{
 "cells": [
  {
   "cell_type": "code",
   "execution_count": 1,
   "metadata": {},
   "outputs": [],
   "source": [
    "#Boiler Plate\n",
    "\n",
    "import torch\n",
    "import torch.nn.functional as F\n",
    "import matplotlib.pyplot as plt\n",
    "%matplotlib inline\n",
    "\n",
    "#select one of the devices, note GPU (Nvidia or Metal) slower than CPU atm\n",
    "\n",
    "#cpu\n",
    "device = torch.device(\"cpu\")\n",
    "\n",
    "#nvidia cuda\n",
    "#device = torch.device(\"cuda\")\n",
    "\n",
    "#high-performance training on Metal GPU for Mac - https://pytorch.org/docs/stable/notes/mps.html\n",
    "#device = torch.device(\"mps\")\n",
    "#%env PYTORCH_ENABLE_MPS_FALLBACK=0\n",
    "\n",
    "#words(names) loaded\n",
    "words = open('names.txt', 'r').read().splitlines()\n",
    "chars = sorted(list(set(''.join(words))))\n",
    "stoi = {s:i+1 for i,s in enumerate(chars)} \n",
    "stoi['.'] = 0\n",
    "itos = {i:s for s, i in stoi.items()}"
   ]
  },
  {
   "cell_type": "code",
   "execution_count": 2,
   "metadata": {},
   "outputs": [],
   "source": [
    "#parameters of NN\n",
    "\n",
    "vocab_size = len(itos) #vocabulary size - all letter and start/end character (.)\n",
    "\n",
    "block_size = 3 #context length: how many characters do we take to predict the next one\n",
    "n_embd = 10 #dimensionalityof the character embedding vectors\n",
    "n_hidden = 200 #number of neurons in the hidden layer of the MLP\n",
    "\n",
    "max_steps = 200000 #no steps for training\n",
    "batch_size = 32 #minibatch size"
   ]
  },
  {
   "cell_type": "code",
   "execution_count": 3,
   "metadata": {},
   "outputs": [
    {
     "name": "stdout",
     "output_type": "stream",
     "text": [
      "torch.Size([182625, 3]) torch.Size([182625])\n",
      "torch.Size([22655, 3]) torch.Size([22655])\n",
      "torch.Size([22866, 3]) torch.Size([22866])\n"
     ]
    }
   ],
   "source": [
    "#build dataset\n",
    "def build_dataset(words):\n",
    "    X, Y = [], []\n",
    "    \n",
    "    for w in words:\n",
    "    \n",
    "        #print(w)\n",
    "        context = [0] * block_size\n",
    "        for ch in w + '.':\n",
    "            ix = stoi[ch]\n",
    "            X.append(context)\n",
    "            Y.append(ix)\n",
    "            #print(''.join(itos[i] for i in context), '--->', itos[ix])\n",
    "            context = context[1:] + [ix] #crop and append\n",
    "    \n",
    "    X = torch.tensor(X, device=device)\n",
    "    Y = torch.tensor(Y, device=device)\n",
    "    print(X.shape, Y.shape)\n",
    "    return X, Y\n",
    "\n",
    "import random\n",
    "random.seed(42)\n",
    "random.shuffle(words)\n",
    "n1 = int(0.8*len(words))\n",
    "n2 = int(0.9*len(words))\n",
    "\n",
    "# training split, dev/validation split, test split\n",
    "# 80%, 10%, 10%\n",
    "Xtr, Ytr = build_dataset(words[:n1])\n",
    "Xdev, Ydev = build_dataset(words[n1:n2])\n",
    "Xte, Yte = build_dataset(words[n2:])"
   ]
  },
  {
   "cell_type": "code",
   "execution_count": 4,
   "metadata": {},
   "outputs": [
    {
     "name": "stdout",
     "output_type": "stream",
     "text": [
      "tensor(0.0046) tensor(0.9908)\n",
      "tensor(-0.0008) tensor(0.9821)\n"
     ]
    },
    {
     "data": {
      "text/plain": [
       "(array([4.79018347e-05, 7.18527521e-05, 9.58036694e-05, 2.39509174e-05,\n",
       "        7.18527521e-05, 2.63460091e-04, 2.63460091e-04, 7.90380273e-04,\n",
       "        1.29334954e-03, 1.84422064e-03, 3.40103026e-03, 5.02969265e-03,\n",
       "        7.35293163e-03, 1.35562192e-02, 2.03822307e-02, 3.09206343e-02,\n",
       "        4.51953811e-02, 6.55057590e-02, 9.41031543e-02, 1.32089309e-01,\n",
       "        1.78841500e-01, 2.32204144e-01, 2.94165167e-01, 3.46282363e-01,\n",
       "        3.98040296e-01, 4.29463899e-01, 4.32433813e-01, 4.14350870e-01,\n",
       "        3.71502679e-01, 3.22714660e-01, 2.57184951e-01, 1.99822504e-01,\n",
       "        1.47753209e-01, 1.09359889e-01, 7.79602360e-02, 5.35303003e-02,\n",
       "        3.55671123e-02, 2.51005614e-02, 1.50411761e-02, 1.04905018e-02,\n",
       "        6.44279677e-03, 3.49683393e-03, 2.73040458e-03, 1.34125137e-03,\n",
       "        1.05384036e-03, 4.55067430e-04, 2.15558256e-04, 1.43705504e-04,\n",
       "        9.58036694e-05, 9.58036694e-05]),\n",
       " array([-5.4732399 , -5.26447963, -5.05571936, -4.84695909, -4.63819881,\n",
       "        -4.42943854, -4.22067827, -4.011918  , -3.80315773, -3.59439746,\n",
       "        -3.38563719, -3.17687692, -2.96811665, -2.75935637, -2.5505961 ,\n",
       "        -2.34183583, -2.13307556, -1.92431529, -1.71555502, -1.50679475,\n",
       "        -1.29803448, -1.08927421, -0.88051394, -0.67175366, -0.46299339,\n",
       "        -0.25423312, -0.04547285,  0.16328742,  0.37204769,  0.58080796,\n",
       "         0.78956823,  0.9983285 ,  1.20708878,  1.41584905,  1.62460932,\n",
       "         1.83336959,  2.04212986,  2.25089013,  2.4596504 ,  2.66841067,\n",
       "         2.87717094,  3.08593122,  3.29469149,  3.50345176,  3.71221203,\n",
       "         3.9209723 ,  4.12973257,  4.33849284,  4.54725311,  4.75601338,\n",
       "         4.96477365]),\n",
       " <BarContainer object of 50 artists>)"
      ]
     },
     "execution_count": 4,
     "metadata": {},
     "output_type": "execute_result"
    },
    {
     "data": {
      "image/png": "[encoded data removed]",
      "text/plain": [
       "<Figure size 2000x500 with 2 Axes>"
      ]
     },
     "metadata": {},
     "output_type": "display_data"
    }
   ],
   "source": [
    "#start from minute mark 28:20\n",
    "x = torch.randn(1000, 10)\n",
    "w = torch.randn(10, 200) / 10**0.5 #modify to keep std of y under control (under 1 like in x) \n",
    "y= x @ w\n",
    "print(x.mean(), x.std())\n",
    "print(y.mean(), y.std())\n",
    "plt.figure(figsize=(20, 5))\n",
    "plt.subplot(121)\n",
    "plt.hist(x.view(-1).tolist(), 50, density=True)\n",
    "plt.subplot(122)\n",
    "plt.hist(y.view(-1).tolist(), 50, density=True)"
   ]
  },
  {
   "cell_type": "code",
   "execution_count": 5,
   "metadata": {},
   "outputs": [
    {
     "data": {
      "text/plain": [
       "0.3042903097250923"
      ]
     },
     "execution_count": 5,
     "metadata": {},
     "output_type": "execute_result"
    }
   ],
   "source": [
    "#so for tanh, w mod should be as follows as advised in https://pytorch.org/docs/stable/nn.init.html as per listed reference \"Delving deep into rectifiers...\" by He et.al.2015\n",
    "(5 /3) / ( (n_embd * block_size) ** 0.5)"
   ]
  },
  {
   "cell_type": "code",
   "execution_count": 6,
   "metadata": {},
   "outputs": [
    {
     "name": "stdout",
     "output_type": "stream",
     "text": [
      "12097\n"
     ]
    }
   ],
   "source": [
    "g = torch.Generator().manual_seed(2147483647) #deterministic reproducibility\n",
    "C = torch.randn((vocab_size,n_embd),                generator=g).to(device) \n",
    "\n",
    "# fix tanh layer too saturated at init by manual factoring\n",
    "W1 = torch.randn((n_embd * block_size, n_hidden),   generator=g).to(device) * (5 /3) / ( (n_embd * block_size) ** 0.5) #above listed better way to combat -1 and 1 concentration\n",
    "#b1 = torch.randn(n_hidden,                          generator=g).to(device) * 0.01 #not needed due to BatchNorm\n",
    "\n",
    "# fix softmax confidently wrong by manual factoring\n",
    "W2 = torch.randn((n_hidden, vocab_size),            generator=g).to(device) * 0.01 #to combat initial high loss, which should be -log(1/27)=3.2958.\n",
    "b2 = torch.randn(vocab_size,                        generator=g).to(device) * 0 #to combat initial high loss\n",
    "\n",
    "#gain and bias for batch normalization as per BatchNorm paper: https://arxiv.org/abs/1502.03167 \n",
    "bngain = torch.ones((1, n_hidden))\n",
    "bnbias = torch.zeros((1, n_hidden))\n",
    "bnmean_running = torch.zeros((1, n_hidden))\n",
    "bnstd_running = torch.ones((1, n_hidden))\n",
    "\n",
    "parameters = [C, W1, W2, b2, bngain, bnbias]\n",
    "print(sum(p.nelement() for p in parameters))\n",
    "for p in parameters:\n",
    "        p.requires_grad = True\n"
   ]
  },
  {
   "cell_type": "code",
   "execution_count": 7,
   "metadata": {},
   "outputs": [
    {
     "name": "stdout",
     "output_type": "stream",
     "text": [
      "Progressed 100% at Step 200000 of 200000 with loss 2.0136\r"
     ]
    }
   ],
   "source": [
    "lossi = []\n",
    "\n",
    "pp = 0\n",
    "for i in range(max_steps):\n",
    "\n",
    "    #minibatch construct\n",
    "    ix = torch.randint(0, Xtr.shape[0], (batch_size,), generator=g, device=device)\n",
    "    Xb, Yb = Xtr[ix], Ytr[ix] #batch X, Y\n",
    "\n",
    "    #forward pass\n",
    "    emb = C[Xb] #embed the characters in vectors\n",
    "    embcat = emb.view(emb.shape[0], -1) #concatanate the vectors\n",
    "    #linear layer\n",
    "    hpreact = embcat @ W1# + b1 #hidden layer pre-activation, b1 unnecassry due to batching: it is added here and substracted 3 lines later\n",
    "    #batch normalization at initialization as per BatchNorm paper: https://arxiv.org/abs/1502.03167\n",
    "    bnmeani = hpreact.mean(0 , keepdim=True)\n",
    "    bnstdi = hpreact.std(0, keepdim=True)\n",
    "    hpreact = bngain * ( hpreact - bnmeani ) / bnstdi + bnbias\n",
    "    with torch.no_grad():\n",
    "        bnmean_running = 0.999 * bnmean_running + 0.001 * bnmeani\n",
    "        bnstd_running = 0.999 * bnstd_running + 0.001 * bnstdi\n",
    "    #non-linearity\n",
    "    h = torch.tanh(hpreact) #hidden layer\n",
    "    logits = h @ W2 + b2 #output layer\n",
    "    loss = F.cross_entropy(logits, Ytr[ix]) #loss function\n",
    "\n",
    "    #backward pass\n",
    "    for p in parameters:\n",
    "        p.grad = None\n",
    "    loss.backward()\n",
    "\n",
    "    #update\n",
    "    lr = 0.1 if i < 100000 else 0.01 #step learning rate decay\n",
    "    for p in parameters:\n",
    "        p.data += -lr * p.grad\n",
    "\n",
    "    #print progress\n",
    "    currentStep = i + 1\n",
    "    totalNoSteps = max_steps\n",
    "    currentProgress = int(float(currentStep) / float(totalNoSteps) *100)\n",
    "    reportingStep = 2\n",
    "    if (currentStep > pp) and (currentProgress % reportingStep == 0):\n",
    "        progress = \"Progressed \" + str(currentProgress) + \"%\" + \" at Step \" + str(currentStep) + \" of \" + str(totalNoSteps) + \" with loss \" + f'{loss.item():.4f}'\n",
    "        print(progress, end=\"\\r\")\n",
    "        pp = currentStep + (totalNoSteps / 100) - reportingStep #cut-off until next step\n",
    "\n",
    "    #track stats\n",
    "    lossi.append(loss.log10().item())\n",
    "\n",
    "    #break #to see initial loss"
   ]
  },
  {
   "cell_type": "code",
   "execution_count": 8,
   "metadata": {},
   "outputs": [
    {
     "data": {
      "text/plain": [
       "[<matplotlib.lines.Line2D at 0x180dbc4f580>]"
      ]
     },
     "execution_count": 8,
     "metadata": {},
     "output_type": "execute_result"
    },
    {
     "data": {
      "image/png": "[encoded data removed]",
      "text/plain": [
       "<Figure size 640x480 with 1 Axes>"
      ]
     },
     "metadata": {},
     "output_type": "display_data"
    }
   ],
   "source": [
    "plt.plot(lossi) #no more hockey stick due to high initial loss"
   ]
  },
  {
   "cell_type": "code",
   "execution_count": 9,
   "metadata": {},
   "outputs": [],
   "source": [
    "# calibrate the batch norm statistics at the end of training\n",
    "\n",
    "with torch.no_grad():\n",
    "  # pass the training set through\n",
    "  emb = C[Xtr]\n",
    "  embcat = emb.view(emb.shape[0], -1)\n",
    "  hpreact = embcat @ W1 # + b1\n",
    "  # measure the mean/std over the entire training set\n",
    "  bnmean = hpreact.mean(0, keepdim=True)\n",
    "  bnstd = hpreact.std(0, keepdim=True)"
   ]
  },
  {
   "cell_type": "code",
   "execution_count": 10,
   "metadata": {},
   "outputs": [
    {
     "data": {
      "text/plain": [
       "tensor([[2.3180, 1.9779, 1.9661, 2.1366, 2.3308, 2.4496, 2.1545, 2.2389, 2.2520,\n",
       "         2.0473, 2.4434, 2.2636, 2.0590, 2.1966, 1.9379, 2.7376, 2.4003, 1.8734,\n",
       "         2.1654, 2.2979, 2.1763, 2.4675, 2.0542, 2.1448, 2.0734, 1.9834, 2.1899,\n",
       "         2.6569, 2.4516, 2.3357, 1.6746, 1.8719, 2.0306, 1.9018, 2.1751, 2.0201,\n",
       "         2.6048, 2.0686, 1.7246, 1.8847, 2.1271, 2.0575, 2.4424, 1.9899, 2.1021,\n",
       "         2.4055, 2.1443, 2.6659, 2.2895, 2.5410, 2.1197, 1.8970, 1.7952, 1.7494,\n",
       "         2.4012, 2.2687, 1.8617, 2.2695, 2.4958, 1.7832, 2.2730, 2.1360, 2.0930,\n",
       "         2.3763, 2.1851, 2.1275, 2.1396, 2.4145, 1.9595, 2.2082, 2.2145, 1.9846,\n",
       "         1.9964, 2.3310, 1.9104, 1.7241, 2.6101, 2.1843, 1.7922, 2.4059, 2.2133,\n",
       "         1.7586, 2.0061, 2.2215, 2.4505, 2.2982, 2.1866, 2.3506, 2.2673, 2.4957,\n",
       "         2.0521, 2.0158, 2.1269, 1.9221, 1.9355, 2.4288, 2.1265, 1.9726, 1.9275,\n",
       "         2.2309, 2.1202, 1.9348, 2.3101, 2.1515, 1.9881, 2.2147, 2.0686, 2.1845,\n",
       "         1.8946, 2.1217, 2.5100, 2.2123, 2.2853, 2.2454, 2.6208, 2.5685, 2.1408,\n",
       "         1.8802, 2.0690, 2.1047, 2.1972, 1.9995, 2.0559, 2.1864, 2.2748, 2.1123,\n",
       "         2.1565, 2.0729, 2.0060, 2.1770, 2.0057, 2.6178, 2.1797, 2.1898, 2.2450,\n",
       "         2.1163, 2.3236, 3.2967, 1.6394, 2.0742, 2.0183, 1.8068, 2.1854, 1.7473,\n",
       "         2.1639, 2.4601, 2.1111, 2.0430, 2.0174, 1.6362, 1.8580, 2.1365, 1.8484,\n",
       "         2.2767, 2.0332, 2.1615, 1.9627, 1.7209, 1.8445, 1.9965, 2.2916, 2.0565,\n",
       "         2.0135, 2.3019, 2.2410, 1.7892, 2.0591, 2.0260, 1.9465, 2.1282, 1.8956,\n",
       "         2.1814, 2.0641, 2.0779, 2.6501, 1.7779, 2.2582, 2.1374, 2.2578, 2.2838,\n",
       "         2.5706, 2.1225, 2.4290, 1.9363, 2.0183, 2.2050, 1.9945, 2.0542, 2.2500,\n",
       "         2.2608, 1.7776, 2.1825, 2.0878, 1.8344, 2.0571, 2.3673, 2.0276, 2.6169,\n",
       "         2.2731, 1.7577]])"
      ]
     },
     "execution_count": 10,
     "metadata": {},
     "output_type": "execute_result"
    }
   ],
   "source": [
    "bnstd"
   ]
  },
  {
   "cell_type": "code",
   "execution_count": 11,
   "metadata": {},
   "outputs": [
    {
     "data": {
      "text/plain": [
       "tensor([[2.2928, 1.9427, 1.9364, 2.0953, 2.2995, 2.4166, 2.1407, 2.2075, 2.2234,\n",
       "         2.0265, 2.4173, 2.2320, 2.0377, 2.1739, 1.9096, 2.7113, 2.3809, 1.8600,\n",
       "         2.1484, 2.2797, 2.1495, 2.4298, 2.0392, 2.1228, 2.0473, 1.9589, 2.1623,\n",
       "         2.6292, 2.4343, 2.3131, 1.6525, 1.8554, 2.0204, 1.8838, 2.1689, 1.9952,\n",
       "         2.6060, 2.0437, 1.7075, 1.8660, 2.0990, 2.0294, 2.4064, 1.9573, 2.0846,\n",
       "         2.3917, 2.1113, 2.6155, 2.2781, 2.5159, 2.0995, 1.8716, 1.7738, 1.7283,\n",
       "         2.3768, 2.2484, 1.8444, 2.2612, 2.4763, 1.7612, 2.2516, 2.1111, 2.0801,\n",
       "         2.3640, 2.1600, 2.1135, 2.1172, 2.3802, 1.9236, 2.1764, 2.1883, 1.9734,\n",
       "         1.9851, 2.3053, 1.8851, 1.7038, 2.5969, 2.1507, 1.7744, 2.3817, 2.1905,\n",
       "         1.7303, 1.9745, 2.1958, 2.4254, 2.2609, 2.1657, 2.3311, 2.2450, 2.4851,\n",
       "         2.0233, 1.9877, 2.1218, 1.9063, 1.9406, 2.4071, 2.1017, 1.9552, 1.8929,\n",
       "         2.2080, 2.1181, 1.9114, 2.2727, 2.1310, 1.9626, 2.1952, 2.0506, 2.1475,\n",
       "         1.8702, 2.0897, 2.4798, 2.1856, 2.2528, 2.2090, 2.6136, 2.5554, 2.1115,\n",
       "         1.8544, 2.0556, 2.0848, 2.1745, 1.9774, 2.0370, 2.1410, 2.2500, 2.0889,\n",
       "         2.1374, 2.0598, 1.9873, 2.1506, 1.9900, 2.5958, 2.1510, 2.1722, 2.2258,\n",
       "         2.0990, 2.2928, 3.2846, 1.6117, 2.0457, 1.9965, 1.7847, 2.1737, 1.7332,\n",
       "         2.1313, 2.4288, 2.0930, 2.0252, 1.9944, 1.6226, 1.8378, 2.1244, 1.8205,\n",
       "         2.2517, 2.0173, 2.1276, 1.9370, 1.6965, 1.8096, 1.9747, 2.2835, 2.0307,\n",
       "         1.9962, 2.2842, 2.2270, 1.7612, 2.0366, 1.9965, 1.9162, 2.1039, 1.8887,\n",
       "         2.1610, 2.0469, 2.0581, 2.6334, 1.7535, 2.2242, 2.1022, 2.2303, 2.2566,\n",
       "         2.5169, 2.1052, 2.4021, 1.9160, 1.9934, 2.1917, 1.9638, 2.0324, 2.2392,\n",
       "         2.2398, 1.7698, 2.1652, 2.0608, 1.8173, 2.0355, 2.3368, 2.0062, 2.6035,\n",
       "         2.2644, 1.7412]])"
      ]
     },
     "execution_count": 11,
     "metadata": {},
     "output_type": "execute_result"
    }
   ],
   "source": [
    "bnstd_running"
   ]
  },
  {
   "cell_type": "code",
   "execution_count": 12,
   "metadata": {},
   "outputs": [
    {
     "name": "stdout",
     "output_type": "stream",
     "text": [
      "Losses @ Training & Validation Sets: 2.0674 & 2.1057\n"
     ]
    }
   ],
   "source": [
    "@torch.no_grad() #this decorator disables gradient tracking for below function - efficiency since no backward pass\n",
    "def split_loss(split):\n",
    "    x,y = {\n",
    "        'train': (Xtr, Ytr),\n",
    "        'val': (Xdev, Ydev),\n",
    "        'test': (Xte, Yte),\n",
    "    }[split]\n",
    "    emb = C[x] #(N, block_size, n_embd)\n",
    "    embcat = emb.view(emb.shape[0], -1) #concat into (N, block_size * n_embd)\n",
    "    hpreact = embcat @ W1# + b1\n",
    "    #hpreact = bngain * ( hpreact - hpreact.mean(0 , keepdim=True) ) / hpreact.std(0, keepdim=True) + bnbias #before batch norm calibration\n",
    "    hpreact = bngain * ( hpreact - bnmean_running) / bnstd_running + bnbias\n",
    "    h = torch.tanh(hpreact) # (N, n_hidden)  \n",
    "    logits = h @ W2 + b2 # (N. vocab_size)\n",
    "    loss = F.cross_entropy(logits, y) #loss function\n",
    "    #print(split, loss.item())\n",
    "    return loss\n",
    "\n",
    "lossT = split_loss('train')\n",
    "lossD = split_loss('val')\n",
    "lossAll = \"Losses @ Training & Validation Sets: \" + f'{lossT.item():.4f}' + \" & \" +  f'{lossD.item():.4f}'\n",
    "print(lossAll)"
   ]
  },
  {
   "cell_type": "code",
   "execution_count": 13,
   "metadata": {},
   "outputs": [
    {
     "data": {
      "text/markdown": [
       "Below setup with `12097`no. parameters, results in Losses of ~`2.0674` for training / ~`2.1057` for dev/validation data sets:\n",
       "\n",
       "`block_size = 3 | n_embd = 10 | n_hidden = 200 | batch_size = 32 | max_steps = 200000`\n",
       "\n",
       ">`block_size` is the context length; how many characters do we take to predict the next one),<br>\n",
       ">`n_embd` is the dimensionality of the character embedding vectors,<br>\n",
       ">`n_hidden` number of neurons in the hidden layer of the MLP,<br>\n",
       ">`batch_size` is minibatch size,<br>\n",
       ">`max_steps` is number steps in each loop for gradient descent\n",
       "\n",
       "Generated words with Uniqueness Score of **~95%** and other stats as follows:\n",
       "\n",
       "| First Run|\n",
       "|---|\n",
       "| jazque, tahannevan, shaseylynn, kanielladi, doneia, berleiveikarlonie, nehrenufayla, katian, alayja+, alinn, bleigh, fgraeleohawn, ashima, ellona, kaiselylon, eslyn, adda, kreelaiyah, avuya, astbel |\n",
       "| 1 no. (+ marked) generated words are exact copies from the training set; uniqueness score 19/20, 95%. |\n",
       "| Losses @ Training & Validation Sets: 2.0674 & 2.1057 |\n",
       "<hr/>\n"
      ],
      "text/plain": [
       "<IPython.core.display.Markdown object>"
      ]
     },
     "metadata": {},
     "output_type": "display_data"
    }
   ],
   "source": [
    "#sampling\n",
    "\n",
    "#sample 10 time for maximum quality\n",
    "bestquality = 0.0\n",
    "bestgenwords = \"\"\n",
    "bestcountexct = 0\n",
    "\n",
    "for rand in range(11):\n",
    "    g = torch.Generator().manual_seed(2147483647+rand)\n",
    "\n",
    "    generation = []\n",
    "    numberofgen = 20\n",
    "    for i in range(numberofgen):\n",
    "\n",
    "        out = []\n",
    "        context = [0] * block_size #start with dot\n",
    "        while True:\n",
    "            emb = C[torch.tensor([context])] # (1, block_size, d)\n",
    "            embcat = emb.view(1, -1)\n",
    "            hpreact = embcat @ W1# + b1\n",
    "            hpreact = bngain * ( hpreact - bnmean_running) / bnstd_running + bnbias #a.k. did not go on sampling from a batchnorm, so this is my guess\n",
    "            h = torch.tanh(hpreact) \n",
    "            logits = h @ W2 + b2\n",
    "            probs = F.softmax(logits, dim=1)\n",
    "            ix = torch.multinomial(probs, num_samples=1, generator=g).item()\n",
    "            context = context[1:] + [ix]\n",
    "            out.append(ix)\n",
    "            if ix == 0:\n",
    "                break\n",
    "\n",
    "        generated = ''.join(itos[i] for i in out).rstrip(\".\")\n",
    "        generation.append(generated) \n",
    "\n",
    "    #find the words which already existed in the training set\n",
    "    genwords = \"\"\n",
    "    countexct = 0\n",
    "    #c = [0 for x in range(0, len(generation))] #just marking the index\n",
    "    for i, x in enumerate(generation):\n",
    "        if len(genwords) > 0:\n",
    "            genwords += \", \"\n",
    "\n",
    "        genwords += x\n",
    "\n",
    "        if x in words[:n1]:\n",
    "            #c[i] = 1\n",
    "            countexct += 1\n",
    "            genwords += \"+\"\n",
    "\n",
    "    quality = (100*(1.0 - float(countexct)/float(numberofgen)))\n",
    "\n",
    "    if quality > bestquality:\n",
    "        bestgenwords = genwords\n",
    "        bestcountexct = countexct\n",
    "        bestquality = quality\n",
    "\n",
    "bestcount = str(bestcountexct) + \" no. (+ marked) generated words are exact copies from the training set; uniqueness score \" + str(numberofgen-bestcountexct) + \"/\" + str(numberofgen) + \", \" + f'{bestquality:.0f}' + \"%.\"\n",
    "\n",
    "#Markdown output\n",
    "from IPython.display import display, Markdown, Latex\n",
    "output = \"\"\"\\\n",
    "Below setup with `{parameters}`no. parameters, results in Losses of ~`{lossT}` for training / ~`{lossD}` for dev/validation data sets:\n",
    "\n",
    "`block_size = {block_size} | n_embd = {n_embd} | n_hidden = {n_hidden} | batch_size = {batch_size} | max_steps = {max_steps}`\n",
    "\n",
    ">`block_size` is the context length; how many characters do we take to predict the next one),<br>\n",
    ">`n_embd` is the dimensionality of the character embedding vectors,<br>\n",
    ">`n_hidden` number of neurons in the hidden layer of the MLP,<br>\n",
    ">`batch_size` is minibatch size,<br>\n",
    ">`max_steps` is number steps in each loop for gradient descent\n",
    "\n",
    "Generated words with Uniqueness Score of **~{bestquality}%** and other stats as follows:\n",
    "\n",
    "| First Run|\n",
    "|---|\n",
    "| {bestgen1} |\n",
    "| {bestcount1} |\n",
    "| {loss1} |\n",
    "<hr/>\n",
    "\"\"\".format(\n",
    "    parameters=sum(p.nelement() for p in parameters),\n",
    "    lossT=f'{lossT:.4f}',\n",
    "    lossD=f'{lossD:.4f}',\n",
    "    block_size = block_size,\n",
    "    n_embd = n_embd,\n",
    "    n_hidden = n_hidden,\n",
    "    batch_size = batch_size,\n",
    "    max_steps = max_steps, \n",
    "    bestquality = f'{bestquality:.0f}',\n",
    "    bestgen1 = bestgenwords,\n",
    "    bestcount1 = bestcount,\n",
    "    loss1 = lossAll,\n",
    ")\n",
    "display(Markdown(output))\n"
   ]
  },
  {
   "cell_type": "code",
   "execution_count": 14,
   "metadata": {},
   "outputs": [
    {
     "name": "stdout",
     "output_type": "stream",
     "text": [
      "Below setup with `12097`no. parameters, results in Losses of ~`2.0674` for training / ~`2.1057` for dev/validation data sets:\n",
      "\n",
      "`block_size = 3 | n_embd = 10 | n_hidden = 200 | batch_size = 32 | max_steps = 200000`\n",
      "\n",
      ">`block_size` is the context length; how many characters do we take to predict the next one),<br>\n",
      ">`n_embd` is the dimensionality of the character embedding vectors,<br>\n",
      ">`n_hidden` number of neurons in the hidden layer of the MLP,<br>\n",
      ">`batch_size` is minibatch size,<br>\n",
      ">`max_steps` is number steps in each loop for gradient descent\n",
      "\n",
      "Generated words with Uniqueness Score of **~95%** and other stats as follows:\n",
      "\n",
      "| First Run|\n",
      "|---|\n",
      "| jazque, tahannevan, shaseylynn, kanielladi, doneia, berleiveikarlonie, nehrenufayla, katian, alayja+, alinn, bleigh, fgraeleohawn, ashima, ellona, kaiselylon, eslyn, adda, kreelaiyah, avuya, astbel |\n",
      "| 1 no. (+ marked) generated words are exact copies from the training set; uniqueness score 19/20, 95%. |\n",
      "| Losses @ Training & Validation Sets: 2.0674 & 2.1057 |\n",
      "<hr/>\n",
      "\n"
     ]
    }
   ],
   "source": [
    "print(output)"
   ]
  },
  {
   "cell_type": "markdown",
   "metadata": {},
   "source": [
    "## Output after batch normalisation\n",
    "\n",
    "Below setup with `12097`no. parameters, results in Losses of ~`2.0674` for training / ~`2.1057` for dev/validation data sets:\n",
    "\n",
    "`block_size = 3 | n_embd = 10 | n_hidden = 200 | batch_size = 32 | max_steps = 200000`\n",
    "\n",
    ">`block_size` is the context length; how many characters do we take to predict the next one),<br>\n",
    ">`n_embd` is the dimensionality of the character embedding vectors,<br>\n",
    ">`n_hidden` number of neurons in the hidden layer of the MLP,<br>\n",
    ">`batch_size` is minibatch size,<br>\n",
    ">`max_steps` is number steps in each loop for gradient descent\n",
    "\n",
    "Generated words with Uniqueness Score of **~95%** and other stats as follows:\n",
    "\n",
    "| First Run|\n",
    "|---|\n",
    "| jazque, tahannevan, shaseylynn, kanielladi, doneia, berleiveikarlonie, nehrenufayla, katian, alayja+, alinn, bleigh, fgraeleohawn, ashima, ellona, kaiselylon, eslyn, adda, kreelaiyah, avuya, astbel |\n",
    "| 1 no. (+ marked) generated words are exact copies from the training set; uniqueness score 19/20, 95%. |\n",
    "| Losses @ Training & Validation Sets: 2.0674 & 2.1057 |\n",
    "<hr/>"
   ]
  },
  {
   "cell_type": "markdown",
   "metadata": {},
   "source": [
    "## Output from pre-batch normalisation but with optimised weights\n",
    "\n",
    "Below setup with `11897`no. parameters, results in Losses of ~`2.0377` for training / ~`2.1070` for dev/validation data sets:\n",
    "\n",
    "`block_size = 3 | n_embd = 10 | n_hidden = 200 | batch_size = 32 | max_steps = 200000`\n",
    "\n",
    ">`block_size` is the context length; how many characters do we take to predict the next one),<br>\n",
    ">`n_embd` is the dimensionality of the character embedding vectors,<br>\n",
    ">`n_hidden` number of neurons in the hidden layer of the MLP,<br>\n",
    ">`batch_size` is minibatch size,<br>\n",
    ">`max_steps` is number steps in each loop for gradient descent\n",
    "\n",
    "Generated words with Uniqueness Score of **~95%** and other stats as follows:\n",
    "\n",
    "| First Run|\n",
    "|---|\n",
    "| trevne, ory, kens, asie, yasia, zahmer, luzihira, mechesataraviel, krison, dani+, sate, raell, ceranz, makermit, dezicko, mubelle, praplionna, ari, grachmira, dar |\n",
    "| 1 no. (+ marked) generated words are exact copies from the training set; uniqueness score 19/20, 95%. |\n",
    "| Losses @ Training & Validation Sets: 2.0377 & 2.1070 |\n",
    "<hr/>\n"
   ]
  },
  {
   "cell_type": "markdown",
   "metadata": {},
   "source": [
    "## Output from AI9 notebook\n",
    "\n",
    "Below setup with `11897`no. parameters, results in Losses of ~`2.0356` for training / ~`2.1027` for dev/validation data sets:\n",
    "\n",
    "`block_size = 3 | n_embd = 10 | n_hidden = 200 | batch_size = 32 | max_steps = 200000`\n",
    "\n",
    ">`block_size` is the context length; how many characters do we take to predict the next one),<br>\n",
    ">`n_embd` is the dimensionality of the character embedding vectors,<br>\n",
    ">`n_hidden` number of neurons in the hidden layer of the MLP,<br>\n",
    ">`batch_size` is minibatch size,<br>\n",
    ">`max_steps` is number steps in each loop for gradient descent\n",
    "\n",
    "Generated words with Uniqueness Score of **~95%** and other stats as follows:\n",
    "\n",
    "| First Run|\n",
    "|---|\n",
    "| dex, mariah, makilah, tyhammonie, traine, kayk, kata, kreez, pebutharminton, moriella, kinzleed, akareedensedey, niavion, rosbur, hunaven, tahiro, kaspe, breen, hayah, isa+ |\n",
    "| 1 no. (+ marked) generated words are exact copies from the training set; uniqueness score 19/20, 95%. |\n",
    "| Losses @ Training & Validation Sets: 2.0356 & 2.1027 |\n",
    "<hr/>"
   ]
  }
 ],
 "metadata": {
  "kernelspec": {
   "display_name": "Python 3.10.8 64-bit",
   "language": "python",
   "name": "python3"
  },
  "language_info": {
   "codemirror_mode": {
    "name": "ipython",
    "version": 3
   },
   "file_extension": ".py",
   "mimetype": "text/x-python",
   "name": "python",
   "nbconvert_exporter": "python",
   "pygments_lexer": "ipython3",
   "version": "3.10.8"
  },
  "orig_nbformat": 4,
  "vscode": {
   "interpreter": {
    "hash": "26de051ba29f2982a8de78e945f0abaf191376122a1563185a90213a26c5da77"
   }
  }
 },
 "nbformat": 4,
 "nbformat_minor": 2
}
