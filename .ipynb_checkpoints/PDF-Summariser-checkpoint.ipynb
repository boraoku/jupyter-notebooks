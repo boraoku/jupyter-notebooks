{
 "cells": [
  {
   "cell_type": "code",
   "execution_count": null,
   "id": "622965c3",
   "metadata": {},
   "outputs": [],
   "source": [
    "#!pip install transformers\n",
    "#!pip install PyPDF2\n",
    "#!pip install langchain"
   ]
  },
  {
   "cell_type": "code",
   "execution_count": 1,
   "id": "0dd55c5d",
   "metadata": {},
   "outputs": [],
   "source": [
    "from transformers import pipeline\n",
    "import os\n",
    "import PyPDF2"
   ]
  },
  {
   "cell_type": "code",
   "execution_count": 2,
   "id": "1922d76a",
   "metadata": {},
   "outputs": [],
   "source": [
    "from langchain.text_splitter import CharacterTextSplitter"
   ]
  },
  {
   "cell_type": "code",
   "execution_count": 3,
   "id": "db6106e3",
   "metadata": {},
   "outputs": [],
   "source": [
    "from PyPDF2 import PdfReader"
   ]
  },
  {
   "cell_type": "code",
   "execution_count": 12,
   "id": "4131e80f",
   "metadata": {},
   "outputs": [],
   "source": [
    "reader = PdfReader('./PDF-Summary-Input.pdf')"
   ]
  },
  {
   "cell_type": "code",
   "execution_count": 13,
   "id": "a0bdbfa8",
   "metadata": {},
   "outputs": [],
   "source": [
    "# read data from the PDF file and put them into a variable called raw_text\n",
    "raw_text = ''\n",
    "for i, page in enumerate(reader.pages):\n",
    "    text = page.extract_text()\n",
    "    if text:\n",
    "        raw_text += text"
   ]
  },
  {
   "cell_type": "code",
   "execution_count": 14,
   "id": "e54875ed",
   "metadata": {},
   "outputs": [
    {
     "data": {
      "text/plain": [
       "'Chapter 10\\nIntroduction to quantum\\nmechanics\\nDavid Morin, morin@physics.harvard.edu\\nThis chapter giv'"
      ]
     },
     "execution_count": 14,
     "metadata": {},
     "output_type": "execute_result"
    }
   ],
   "source": [
    "raw_text[:100]"
   ]
  },
  {
   "cell_type": "code",
   "execution_count": 15,
   "id": "8419c417",
   "metadata": {},
   "outputs": [],
   "source": [
    "# We need to split the text that we read into smaller chunks so that during information retreival we don't hit the token size limits.\n",
    "text_splitter = CharacterTextSplitter(\n",
    "    separator = \"\\n\",\n",
    "    chunk_size = 1000,\n",
    "    chunk_overlap  = 200,\n",
    "    length_function = len,\n",
    ")\n",
    "texts = text_splitter.split_text(raw_text)"
   ]
  },
  {
   "cell_type": "code",
   "execution_count": 16,
   "id": "9b35965c",
   "metadata": {
    "scrolled": true
   },
   "outputs": [
    {
     "data": {
      "text/plain": [
       "78"
      ]
     },
     "execution_count": 16,
     "metadata": {},
     "output_type": "execute_result"
    }
   ],
   "source": [
    "len(texts)"
   ]
  },
  {
   "cell_type": "code",
   "execution_count": 17,
   "id": "fc3aed58",
   "metadata": {
    "scrolled": true
   },
   "outputs": [],
   "source": [
    "summarizer = pipeline(\"summarization\", model =\"facebook/bart-large-cnn\")\n",
    "summary = summarizer(texts, max_length=130, min_length=30)"
   ]
  },
  {
   "cell_type": "code",
   "execution_count": 18,
   "id": "14c1bbd7",
   "metadata": {
    "scrolled": true
   },
   "outputs": [
    {
     "name": "stdout",
     "output_type": "stream",
     "text": [
      "Quantum mechanics can be thought of roughly as the study of physics on very small length scales. In quantum mechanics, particles have wavelike properties, and a particular wave equation governs how these waves behave.\n",
      "In some respect, quantum mechanics is just another example of a system governed by a wave equation. However, there are many things about quantum mechanics that are a combination of subtle, perplexing, and bizarre. You'll learn all about these in an actual course on quantum mechanics.\n",
      "There is no need to understand all of the subtleties about quantum mechanics in order to use it. If the world waited to use quantum mechanics until it understood it, then we'd be stuck back in the 1920's.\n",
      "The main purpose of this chapter is to demonstrate how similar certain results in quan-                tum mechanics are to earlier results we've derived in the book. bottom line is that quantum mechanics can be used to make predictions that are consistent with experiment.\n",
      "In Section 10.4 we discuss the uncertainty principle. The uncertainty principle turns out to be a direct consequence of a result from Fourier analysis. The interpretation of this result has profound implications in quantum mechanics.\n",
      "Max Planck proposed that light with frequency ¼is emitted in quantized multiples of the quantity. The energy is therefore essentially continuous for most purposes. In a late 19th-century physics was the blackbody radiation problem.\n",
      "The classical theory of light predicted that certain objects would radiate an in¯nite amount of energy, which of course can't be correct. Planck's hypothesis simply adds the information of how many lumps of energy a wave contains.\n",
      "Einstein's 1905 work on relativity, where he showed that E=pcfor any massless particle, an example of which is a photon. Bohr stated that electrons in atoms have wavelike properties.\n",
      "Niels Bohr stated that electrons in atoms have wavelike properties. Louis de Broglie proposed that allparticles are associated with waves. The larger Eandpare, the larger the wave.\n",
      "Many things that are true for photons are nottrue for massive (and nonrelativistic) particles. E=pc(and hence !=ck) holds only for massless particles.\n",
      "The wave-particle duality is one of the things that few people understand about quantum mechanics. Erwin Schrodinger wrote down a wave equation that governs how the waves evolve in space and time. We'll deal with this equation in depth below.\n",
      "Max Born correctly interpreted Schrodinger's wave as a probability am-                plitude. By amplitude we mean that the wave must be squared to obtain the desired probability. This yields the probability of a particle at a given location.\n",
      "Quantum mechanical probabilities are truly random. They aren't a consequence of missing information. The topic of hidden variables includes various theorems (such as Bell's theorem) and experimental results.\n",
      "In this section we'll give a \\derivation\" of the Schrodinger equation. Our starting point will be the classical nonrelativistic expression for the energy of a particle.\n",
      "If we multiply the energy equation in Eq. (4) by Ã, and then plug in these relations, we can achieve the time-dependent Schrodinger equation. In 3-D, the xdependence turns into dependence on all three coordinates ( x; y; z ), and the x2term becomes r2Ã(the sum of the second derivatives)\n",
      "It is impossible to actually prove anything in physics. All we can do is make an educated guess at a theory, and then do experiments to try to show. that the theory is consistent with the real world. But we can never be absolutely sure that we have the correct theory.\n",
      "Schrodinger's equation is just a limiting theory of a more correct one. Eventually there will be one theory that covers everything, but we're de¯nitely not there yet.\n",
      "In quantum mechanics the whole complex wavefunction is relevant. The theory is structured in such a way that anything you might want to measure (position, momentum, energy) will always turn out to be a real quantity.\n",
      "If we put aside the profound implications of the Schrodinger equation and regard it as simply a mathematical equation, then it's just another wave equation. We already know the solution, of course, because we used the function Ã(x; t) =Aei(kx¡!t)to produce Eqs. (5) and (6) in the first place. But let's pretend that we don't know this, and let's solve the equation.\n",
      "In Eq. (7) and canceling the e¡i!tyields Ã(x; t) =ei!tf(x) (the minus sign here is convention) We'll now replace f(x), since we've already used Ãto denote the entire wavefunction. In general, a particle can be in a state that is the superposition of states with various de¯nite energies.\n",
      "String can be the superposition of various normal modes with de¯nite !'s. From Fourier analysis and the linearity of the Schrodinger equation, we can build up any general wavefunction.\n",
      "Eq. (10) is (sort of) a dispersion relation. If V(x) is a constant Cin a given region, then the relation between !andk(namely != ¹hk2=2m+C) is independent of x. However, if V('x') isn't constant, the wavefunction isn't characterized by a unique wavenumber. So a functionof the form eikxdoesn't work as a solution for Ã(x).\n",
      "In order to solve for the wavefunction Ã(x) in the time-independent Schrodinger equation, we need to be given the potential energy V(x). So let's now do some examples with particular functions V( x)\n",
      "If E < V 0, then kis imaginary, so we have exponentially growing or decaying solutions. This isn't possible classically, and it is one of the many ways in which quantum mechanics diverges from classical mechanics. We'll talk more about this when we discuss the ¯nitesquare well in Section 10.3.1.\n",
      "E=V0implies @2Ã=@x2= 0, which in turn implies that Ãis a linear function. The full wavefunction (including the time dependence) for a particle with a speci¯c value of Eis given by. (15) The fact that a particle can be in a superposition of states with di®erent energies is another instance where quantum mechanics diverges from classical mechanics.\n",
      "The above E > V 0andE < V 0cases correspond, respectively, to being above or below the cuto® frequency in the string/spring system. The two setups (quantum mechanical with constantV0, and string/ spring with springs present everywhere) are exactly analogous to each other.\n",
      "Oscillatory solutions are not normalizable ifE > V 0. We shouldn't be too worried about this divergence, because when dealing with traveling waves on a string (for example,when discussing re°ection and transmission coe±cients) we assumed that the sinusiodal.\n",
      "IfE < V 0, then the fact that x= +1is in the given region implies that the coe±cientAin Eq. (13) must be zero, because otherwise Ãwould diverge as x! 1 . So we are left with only the Ba¡·xterm. In other words, there is no allowed wavefunction. It is impossible to have a particle with E < V0everywhere.\n",
      "It is impossible to have a particle with E < V 0everywhere. The particle does indeed have zero chance of being found outside the region 0 ·x·L. This setup is also called a particle in a box.\n",
      "The particle does indeed have zero chance of being found outside the region 0 ·x·L. The particle would have to climb the in¯nitely high potential cli® at the side of the box. Mathematically, this can be derived rigorously, and we'll do this below.\n",
      "We claim that Ãmust be continuous at the boundaries at x= 0 and x=L. There doesn't seem to be anything horribly wrong with having a discontinuous probability distribution, since an object isn't an actual object.\n",
      "The dispersion relation, however, is di®erent. It was simply !=ckfor waves on a string, whereas it is ¹ h!= ¹h2k2=2m for the V(x) = 0 region of the well.\n",
      "The wavefunctions for the lowest four energies are shown in Fig. 2. These look exactly like the normalizablemodes in the \\both ends ¯xed\" case in Chapter 4.10.3.\n",
      "There is no n= 0 state, because from Eq. (18) this would make Ãbe identically zero. Such a state would have ¢ x¢p= 0, which would violate the principle. The lack of a n=0 state is consistent with the uncertainty principle (see Section 10.4 below)\n",
      "Given V0, there are two basic possibilities for the energy E. The wavefunction extends in¯nitely on both direction, so the particle can be anywhere. We've drawn an even-function standing wave in Fig. 5.\n",
      "The wavefunction extends in¯nitely on both direction, so the particle can be anywhere. We've drawn an even-function standing wave in Fig. 5. In general we're concerned with traveling waves for unbound states.\n",
      "In both of these cases, the complete solution for Ã(x) involves solving the boundaryconditions at x=§a. The procedure is the same for both cases, but let's concentrate on the bound-state case here. The boundary conditions are given by the following theorem.\n",
      "Theorem 10.1: IfV(x)is everywhere¯nite, then both Ã(x), Ã0 are everywhere continuous.Proof: If we solve for Ã00in Eq. (9), we see that Ã000is always ¯nite. This implies two things.\n",
      "If we let k´i·outside the well, then we have ·=p2m(V0¡E)=¹h, which is real and positive since E < V 0. The actual task of going through the calculation is left for Problem 10.2. The calculation is made much easier with the help of Problem. 10.1 which states that only even and odd functions need to be considered.\n",
      "We've given only the xdependence in these wavefunctions. To obtain the full wavefunctionÃ(x; t), all of these waves are multiplied by the same function of t. We now need to solve for various quantities. How many unknowns do we have, and how many equations/facts do we Have?\n",
      "The energies and states are again discrete and can be labeled by an integer n. The details are left for Problem 10.2, but let's get a rough idea here of what the wavefunctions look like. The energies don't take the simple form of Eq. (18), but approximately do if the well is deep.\n",
      "We've chosen the various parameters (one of which is the depth) so that there are exactly                ¯ve states. The deeper the well, the more states there are. The exact details of the waves depend on variousparameters, but the number of bumps equals n.\n",
      "The exact details of the waves depend on variousparameters, but the number of bumps equals n. In the in¯nite-well case, this discreteness was clear because an integral number of half wavelengths needed to get into the well.\n",
      "If we choose a random.value of E, it probably won't yield an allowable function, and here's why. Pick an arbitraryvalue of the coe±cient A1in Eq. (20), and set B1= 0. So we have an exponentially decayingfunction in the left region, which behaves properly at x=¡1.\n",
      "We can recursively march all the way up to x= +1, and the entire function is determined. There is no freedom whatsoever in what the function turns out to be. It has an exponentially growing piece in the right region.\n",
      "In the right region of the well, E has an exponentially growing piece. Because it diverges at x= +1, this function isn't an allowable one. If we increase Ea little more, by precisely the right amount, then we'll end up with the third function.\n",
      "If we increase E a little more, then we'll end up with something like the fourth (bottom)function in Fig. 7. This function is allowable, as is the associated energy. Other values of Eproduce an exponentially increasing amount of energy.\n",
      "Classically, it is impossible for a particle to have E < V . But classical mechanics isn't correct, and this is one of the places where it fails. Only special values of E make the coe±cient A3in Eq. (20) be zero.\n",
      "The exponential decay outside the well is therefore in¯nitely quick. As V0increases further, the region of the exponential decay gets smaller and smaller. Eventually you can't tell the di®erence between the plots in Fig. 8 and Fig. 2.\n",
      "In Section 6.2.2, we know that if the frequency is below the cuto® frequency, then we have a sinusoidal wave in the middle region. This is exactly what we have in the quantum-mechanical¯nite-well setup.\n",
      "In both setups the most general forms of the waves (as functions of x) in the di®erent regions are given by Eq. (20) And the boundary conditions                are the same: continuity of ÃandÃ0at the boundaries, and Ã= 0 at x=§1. If you've solved for one Ã(x), you have solved for the other.\n",
      "The shape of the wave is determined by the boundary conditions, along with the exponential decay constant. In both cases, kand·are related by an equation of the form, k2+·2=A.\n",
      "If a rightward-traveling wave comes in from the left, and if the frequency !is less than the cuto® frequency !s, then we will have an evanescent wave in the middle region. And we will also have a rightwards-traveler in the right region. All of these waves are multiplied by the same.\n",
      "All of these waves are multiplied by the samefunction of t, namely e¡i!t. The ratio B1=A1is the re°ection coe±cient, and the ratio A3=A114.\n",
      "In the ¯nite-well case, we had seven unknowns: A1,A2,A3,B1,B2,B3, and E. We also had seven equations: Six boundary conditions and the normalization condition. Since we have two more unknowns than equations, there will be two unknowns that we can't solve for. In other words, we are free to give the incoming wave whatever amplitude and frequency we want.\n",
      "We can solve for the re°ection and transmission coe±cients, B1=A1 and A3=A3. The calculation is rather messy, so we won't do it here (see Problem [to be added]\n",
      "If the springs are weak, or if the width 2 aof the middle region is small, virtually all of the wave will make it through, so A3¼A1. Increasing the sti®ness of the springs and/or increasing ashould make A3smaller, but it should just be a matter of degree, and A3should asymptoticallyapproach zero.\n",
      "We havesinusoidal waves in the outer regions, and an evanescent wave in the middle region. The boundary conditions are also the same, so the resulting wavefunctions are exactly the same. So we again reach the conclusion that A3is nonzero.\n",
      "With macroscopic particles, the probability is prohibitively small. Since A3is nonzero, there is a nonzeroprobability that a particle can make it through. This phenomenon is known as tunneling.\n",
      "10.4. Uncertainty principle (often pre¯xed with \\Heisenberg) makes a statement about the uncertainties in the position and momentum of a particle. wave generated would die out well before the middle region.\n",
      "The product of the uncertainties in x andpcan never be smaller than a certain value. This tells us that if we know one of xorpvery well, then we must be rather unsure of the other. The uncertainty in a variable is de¯ned to the standard deviation of the variable.\n",
      "The quickest way to rigorously prove the uncertainty principle makes use of what arecalled quantum-mechanical operators. The precise de¯nition of the uncertainties won't be important here. For the present purposes, we can just take the uncertainty to be therough spread of the bump of the probability distribution.\n",
      "The uncertainly principle is simply a fancy way of interpreting a certain fact from Fourier analysis. Eq. (27) is a mathematical statement that need not have anything to do with physics. The best way to understand physically what's going on is to invoke a few results from Chapter 3.\n",
      "Eq. (27) is a mathematical statement that need not have anything to do with physics. We know from de Broglie's proposal in Section 10.1 that the function eikxcorresponds to a momentum of p= ¹hk. If a function is narrow (wide), then its Fourier transform is also narrow.\n",
      "If a function is narrow (wide), then its Fourier transformis wide (narrow) This can be proved rigorously, but due to all the examples we gave inChapter 3, we'll just accept it as true here. It's also true in general for the other pairs of non-Gaussian functions we dealt with.\n",
      "A common physical interpretation of the uncertainty principle is the following. If you want to measure the position of a particle, the most reasonable way to do this is to look at photons. This involves shining photons and observing the ones that bounce o® in your direction. photons carry momentum (which is given by p=E=c=hº=c)\n",
      "It is impossible to resolve the position of a particle to more accuracy than the order of the wavelength of the light you're using. If you want to narrow down the position, you will need to use a shorter wavelength of light. A small ¢ ximplies a large ¢ p, consistent with the uncertainty principle.\n",
      "The uncertainty principle states that no matter how clever you are, you won't be able to beat the ¢ x¢p¸¹h=2 lower bound. The uncertainty principle isn't a measurement-speci¯c result. It is a mathematicalsequence of the wave nature of matter.\n",
      "10.2. Finite square well discussed in Section 10.3. From 10.1 we know that we need only consider even and odd functions for Ã. Let'sconsider the even functions here.\n",
      "10.6 Solutions to the Schrodinger equation. Show graphically how to obtain the solutions for kand·(and hence E) by drawing the appropriate curves in the ·avs.kaplane.\n",
      "Since the Schrodinger equation is linear, this means that any linear combination of the functions Ã(x) andÃ(¡x) is also a solution for the same V and E. But these two function are even and odd, as you can verify by replacing x with x. Since Ã2(x), only the cos kxparts of the exponentials in Eq. (20) survive.\n",
      "Since Ã2(x) is even, only the cos kxparts of the exponentials in Eq. (20) survive. In the righthand region, the boundary condition at in¯nity tells us that the e·xterm can't exist. And then in the lefthand region we have Ã1 (x) =Be·x, but this ends up giving redundant information.\n",
      "Eqs. (33) and (34) are two equations in two unknowns, kand·. They can't be solved analytically, so if we want to obtain precise values we have to solve them numerically. To get a general idea of what the solutions look like, it is far more instructive to solve the equations graphically.\n",
      "Eq. (33) is a series of (ka) tan( ka) curves, and Eq.. (34) is the size of a circle. The size of the circle determines how many solutions there are. Let's look at the cases of very small and very large.\n",
      "The size of the circle determines how many solutions there are. Given the values of m,a, and ¹ h, this is equivalent to looking at the cases of very small V0 and very large V0.\n",
      "Since ·!0, virtually all of the wave is a straight line. Since 2 kais the phase change inside the well, the wave has hardly any net curvature. So we end up with a nearly straight line, with a slight negative curvature in the middle,20 CHAPTER 10. INTRODUCTION TO QUANTUM MECHANICS.\n",
      "Large V0(deep well): IfV0is large, then the circle in Fig. 13 is very large, so there are many solutions for kand·. Note that since ·!0, virtually all of the area under the curve (or technically under the jÃj2curve) lies outside the well. This is because the energy Eis very small.\n",
      "In Section 10.3.2, we know that an in¯nite square well has a number of possible states. From Fig. 13, a large V0(and hencea large circle) implies that the solutions for kaare roughly equal to ¼=2. So the number of wavelengths that ¯t into the well is approximately 1 =2.\n"
     ]
    }
   ],
   "source": [
    "def combine_summary_texts(data):\n",
    "    summary_texts = [item['summary_text'] for item in data]\n",
    "    combined_summary = '\\n'.join(summary_texts)\n",
    "    return combined_summary\n",
    "combined = combine_summary_texts(summary)\n",
    "print(combined)"
   ]
  }
 ],
 "metadata": {
  "kernelspec": {
   "display_name": "Python 3 (ipykernel)",
   "language": "python",
   "name": "python3"
  },
  "language_info": {
   "codemirror_mode": {
    "name": "ipython",
    "version": 3
   },
   "file_extension": ".py",
   "mimetype": "text/x-python",
   "name": "python",
   "nbconvert_exporter": "python",
   "pygments_lexer": "ipython3",
   "version": "3.11.3"
  }
 },
 "nbformat": 4,
 "nbformat_minor": 5
}
