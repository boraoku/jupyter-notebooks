{
 "cells": [
  {
   "cell_type": "code",
   "execution_count": 1,
   "id": "b05c9092-557d-4dce-9e97-a7772a2a946b",
   "metadata": {},
   "outputs": [
    {
     "data": {
      "text/html": [
       "<div>\n",
       "<style scoped>\n",
       "    .dataframe tbody tr th:only-of-type {\n",
       "        vertical-align: middle;\n",
       "    }\n",
       "\n",
       "    .dataframe tbody tr th {\n",
       "        vertical-align: top;\n",
       "    }\n",
       "\n",
       "    .dataframe thead th {\n",
       "        text-align: right;\n",
       "    }\n",
       "</style>\n",
       "<table border=\"1\" class=\"dataframe\">\n",
       "  <thead>\n",
       "    <tr style=\"text-align: right;\">\n",
       "      <th></th>\n",
       "      <th>LATITUDE</th>\n",
       "      <th>LONGITUDE</th>\n",
       "    </tr>\n",
       "  </thead>\n",
       "  <tbody>\n",
       "    <tr>\n",
       "      <th>0</th>\n",
       "      <td>NaN</td>\n",
       "      <td>NaN</td>\n",
       "    </tr>\n",
       "    <tr>\n",
       "      <th>1</th>\n",
       "      <td>14.5670</td>\n",
       "      <td>121.0330</td>\n",
       "    </tr>\n",
       "    <tr>\n",
       "      <th>2</th>\n",
       "      <td>-33.4254</td>\n",
       "      <td>-70.5665</td>\n",
       "    </tr>\n",
       "    <tr>\n",
       "      <th>3</th>\n",
       "      <td>-27.4700</td>\n",
       "      <td>153.0300</td>\n",
       "    </tr>\n",
       "    <tr>\n",
       "      <th>4</th>\n",
       "      <td>55.9146</td>\n",
       "      <td>37.7616</td>\n",
       "    </tr>\n",
       "  </tbody>\n",
       "</table>\n",
       "</div>"
      ],
      "text/plain": [
       "   LATITUDE  LONGITUDE\n",
       "0       NaN        NaN\n",
       "1   14.5670   121.0330\n",
       "2  -33.4254   -70.5665\n",
       "3  -27.4700   153.0300\n",
       "4   55.9146    37.7616"
      ]
     },
     "execution_count": 1,
     "metadata": {},
     "output_type": "execute_result"
    }
   ],
   "source": [
    "import pandas as pd\n",
    "\n",
    "# Load the uploaded Excel file\n",
    "file_path = 'country.xlsx'\n",
    "data = pd.read_excel(file_path)\n",
    "\n",
    "# Display the first few rows to understand the structure\n",
    "data.head()"
   ]
  },
  {
   "cell_type": "code",
   "execution_count": 6,
   "id": "31dc7e67-bf89-4e82-82b4-adc719ddb1e7",
   "metadata": {},
   "outputs": [
    {
     "name": "stderr",
     "output_type": "stream",
     "text": [
      "Processing Rows: 100%|████████████████████████| 301/301 [02:16<00:00,  2.21it/s]\n"
     ]
    }
   ],
   "source": [
    "from geopy.geocoders import Nominatim\n",
    "\n",
    "# Initialize geolocator\n",
    "geolocator = Nominatim(user_agent=\"geoapiExercises\")\n",
    "\n",
    "# Function to get country based on latitude and longitude\n",
    "def get_country(lat, lon):\n",
    "    if pd.notna(lat) and pd.notna(lon):\n",
    "        try:\n",
    "            location = geolocator.reverse((lat, lon), exactly_one=True, language='en')\n",
    "            if location and 'country' in location.raw['address']:\n",
    "                return location.raw['address']['country']\n",
    "        except:\n",
    "            return \"N/A\"\n",
    "    return \"N/A\"\n",
    "\n",
    "# Improve the get_country method to type the process in percentage over the total number of rows\n",
    "test_mode = False  # Set to True for test mode, False for full processing\n",
    "if test_mode:\n",
    "    total_rows = 10  # Process only first 10 rows in test mode\n",
    "else:\n",
    "    total_rows = len(data)  # Process all rows in normal mode\n",
    "    \n",
    "from tqdm import tqdm\n",
    "\n",
    "for index, row in tqdm(data.iterrows(), total=total_rows, desc=\"Processing Rows\"):\n",
    "    data.at[index, 'COUNTRY'] = get_country(row['LATITUDE'], row['LONGITUDE'])\n",
    "    if test_mode and index >= total_rows:  # Break after processing first 10 rows in test mode\n",
    "        break\n",
    "\n",
    "# Save the updated dataframe to show the user\n",
    "output_path = 'country_with_lat_lon.xlsx'\n",
    "data.to_excel(output_path, index=False)"
   ]
  }
 ],
 "metadata": {
  "kernelspec": {
   "display_name": "Python 3 (ipykernel)",
   "language": "python",
   "name": "python3"
  },
  "language_info": {
   "codemirror_mode": {
    "name": "ipython",
    "version": 3
   },
   "file_extension": ".py",
   "mimetype": "text/x-python",
   "name": "python",
   "nbconvert_exporter": "python",
   "pygments_lexer": "ipython3",
   "version": "3.11.5"
  }
 },
 "nbformat": 4,
 "nbformat_minor": 5
}
