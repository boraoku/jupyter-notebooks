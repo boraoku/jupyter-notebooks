{
 "cells": [
  {
   "cell_type": "code",
   "execution_count": null,
   "id": "c2dd8d66",
   "metadata": {
    "scrolled": true
   },
   "outputs": [],
   "source": [
    "# install yahoo finance and other modules if not installed before\n",
    "#%pip install yfinance\n",
    "#%pip install matplotlib\n",
    "\n",
    "import yfinance as yf  \n",
    "import matplotlib.pyplot as plt\n",
    "from datetime import datetime\n",
    "import pandas as pd\n",
    "from pandas.tseries.offsets import DateOffset"
   ]
  },
  {
   "cell_type": "code",
   "execution_count": null,
   "id": "2a4e4030",
   "metadata": {
    "scrolled": false
   },
   "outputs": [],
   "source": [
    "# Get the stock data specifying the stock ticker, start date, and end date\n",
    "startDate = '2007-01-01'\n",
    "endDate = '2012-01-01'\n",
    "data = yf.download(['AMZN', 'AAPL'], startDate, endDate)\n",
    "\n",
    "# Plot the adjusted close prices\n",
    "prices = data[\"Adj Close\"]\n",
    "ax = prices.plot.line(color={'AAPL': 'cyan', 'AMZN': 'orange'})\n",
    "\n",
    "# Seperate stock data\n",
    "amazon = prices[\"AMZN\"]\n",
    "apple = prices[\"AAPL\"]"
   ]
  },
  {
   "cell_type": "code",
   "execution_count": null,
   "id": "f204704b",
   "metadata": {},
   "outputs": [],
   "source": [
    "# Get the stock data specifying the stock ticker, start date, and end date\n",
    "tstartDate = '2020-01-01'\n",
    "tendDate = datetime.today().strftime('%Y-%m-%d')\n",
    "data = yf.download(['TSLA'], tstartDate, tendDate)\n",
    "\n",
    "# Plot the adjusted close prices\n",
    "tesla = data[\"Adj Close\"]\n",
    "ax = tesla.plot.line(color='red')"
   ]
  },
  {
   "cell_type": "code",
   "execution_count": null,
   "id": "d307c2f9",
   "metadata": {},
   "outputs": [],
   "source": [
    "# Amazon: Offset back in X years and T times magnified\n",
    "offsetByYears = 14\n",
    "magnifyBy = 67\n",
    "if magnifyBy == 1:\n",
    "    amazonModName = \"AMZN, \" + str(offsetByYears) + \" years backshift\"\n",
    "else:\n",
    "    amazonModName = \"AMZN, x\" + str(magnifyBy) + \" value and \" + str(offsetByYears) + \" years backshift\"\n",
    "amazonMod = pd.Series(data = amazon.values * magnifyBy, index = amazon.index + DateOffset(years=offsetByYears), name = amazonModName)\n",
    "\n",
    "# Apple: Offset back in X years and T times magnified\n",
    "offsetByYears = 14\n",
    "magnifyBy = 67\n",
    "if magnifyBy == 1:\n",
    "    appleModName = \"AAPL, \" + str(offsetByYears) + \" years backshift\"\n",
    "else:\n",
    "    appleModName = \"AAPL, x\" + str(magnifyBy) + \" value and \" + str(offsetByYears) + \" years backshift\"\n",
    "appleMod = pd.Series(data = apple.values * magnifyBy, index = apple.index + DateOffset(years=offsetByYears), name = appleModName)\n",
    "\n",
    "# Tesla: Current value and T times\n",
    "tesla.name = \"TSLA, current value\"\n",
    "magnifyBy = 1\n",
    "if magnifyBy < 1:\n",
    "    teslaModName = \"TSLA, 1/\" + str(1/magnifyBy) + \" value\"\n",
    "else:\n",
    "    teslaModName = \"TSLA, x\" + str(magnifyBy) + \" value\"\n",
    "teslaMod = pd.Series(data = tesla.values * magnifyBy, index = tesla.index, name = teslaModName)\n",
    "\n",
    "# Combine all back\n",
    "a = pd.DataFrame(amazonMod)\n",
    "b = a.join(appleMod)\n",
    "compare = b.join(teslaMod)\n",
    "ax = compare.plot.line(color={appleModName: \"cyan\", amazonModName: \"orange\", teslaModName: \"red\"})\n",
    "\n",
    "# Draw lines for target sells\n",
    "plt.axhline(333, color='red', linestyle='--', lw=1)\n",
    "plt.axhline(666, color='red', linestyle='--', lw=1)\n",
    "plt.axhline(1000, color='red', linestyle='--', lw=1)\n",
    "\n",
    "# Draw lines for intermediate price points\n",
    "plt.axhline(250, color='black', linestyle='--', lw=1)\n",
    "plt.axhline(500, color='black', linestyle='--', lw=1)\n",
    "plt.axhline(750, color='black', linestyle='--', lw=1)\n",
    "\n",
    "# Draw line for years\n",
    "plt.axvline('2023-01-01', color='black', lw=1)\n",
    "plt.axvline('2024-01-01', color='black', lw=1)\n",
    "plt.axvline('2025-01-01', color='black', lw=1)\n",
    "plt.axvline('2026-01-01', color='black', lw=1)\n",
    "plt.axvline('2027-01-01', color='black', lw=1)\n",
    "\n",
    "# Plot and print to pdf and jpg\n",
    "plt.savefig('TSLA22crashvsAMZNAPPL09_in' + str(offsetByYears) + 'years@' + tendDate + '.pdf', dpi=300, bbox_inches='tight')\n",
    "plt.savefig('TSLA22crashvsAMZNAPPL09_in' + str(offsetByYears) + 'years@' + tendDate + '.png')"
   ]
  },
  {
   "cell_type": "code",
   "execution_count": null,
   "id": "25b89874",
   "metadata": {},
   "outputs": [],
   "source": [
    "# Below is not working any longer, giving an error:\n",
    "# ValueError: Excel does not support datetimes with timezones. Please ensure that datetimes are timezone unaware before writing to Excel.\n",
    "# Additional step to remove timezone from the dataset, does not fix it either\n",
    "\n",
    "# For Excel export, first install openpyxl if not previously\n",
    "#%pip install openpyxl\n",
    "\n",
    "#import openpyxl\n",
    "#compare.index.tz_localize(None)\n",
    "#compare.to_excel('TSLA22crashvsAMZNAPPL09_in' + str(offsetByYears) + 'years@' + tendDate + '.xlsx')"
   ]
  }
 ],
 "metadata": {
  "kernelspec": {
   "display_name": "Python 3 (ipykernel)",
   "language": "python",
   "name": "python3"
  },
  "language_info": {
   "codemirror_mode": {
    "name": "ipython",
    "version": 3
   },
   "file_extension": ".py",
   "mimetype": "text/x-python",
   "name": "python",
   "nbconvert_exporter": "python",
   "pygments_lexer": "ipython3",
   "version": "3.10.9"
  },
  "vscode": {
   "interpreter": {
    "hash": "26de051ba29f2982a8de78e945f0abaf191376122a1563185a90213a26c5da77"
   }
  }
 },
 "nbformat": 4,
 "nbformat_minor": 5
}
