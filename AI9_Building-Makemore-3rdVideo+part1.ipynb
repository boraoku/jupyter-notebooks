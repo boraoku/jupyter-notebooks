{
 "cells": [
  {
   "cell_type": "code",
   "execution_count": 1,
   "metadata": {},
   "outputs": [],
   "source": [
    "#Boiler Plate\n",
    "\n",
    "import torch\n",
    "import torch.nn.functional as F\n",
    "import matplotlib.pyplot as plt\n",
    "%matplotlib inline\n",
    "\n",
    "#select one of the devices, note GPU (Nvidia or Metal) slower than CPU atm\n",
    "\n",
    "#cpu\n",
    "device = torch.device(\"cpu\")\n",
    "\n",
    "#nvidia cuda\n",
    "#device = torch.device(\"cuda\")\n",
    "\n",
    "#high-performance training on Metal GPU for Mac - https://pytorch.org/docs/stable/notes/mps.html\n",
    "#device = torch.device(\"mps\")\n",
    "#%env PYTORCH_ENABLE_MPS_FALLBACK=0\n",
    "\n",
    "#words(names) loaded\n",
    "words = open('names.txt', 'r').read().splitlines()\n",
    "chars = sorted(list(set(''.join(words))))\n",
    "stoi = {s:i+1 for i,s in enumerate(chars)} \n",
    "stoi['.'] = 0\n",
    "itos = {i:s for s, i in stoi.items()}"
   ]
  },
  {
   "cell_type": "code",
   "execution_count": 7,
   "metadata": {},
   "outputs": [],
   "source": [
    "#parameters of NN\n",
    "\n",
    "vocab_size = len(itos) #vocabulary size - all letter and start/end character (.)\n",
    "\n",
    "block_size = 3 #context length: how many characters do we take to predict the next one\n",
    "n_embd = 10 #dimensionalityof the character embedding vectors\n",
    "n_hidden = 200 #number of neurons in the hidden layer of the MLP\n",
    "\n",
    "max_steps = 200000 #no steps for training\n",
    "batch_size = 32 #minibatch size"
   ]
  },
  {
   "cell_type": "code",
   "execution_count": 3,
   "metadata": {},
   "outputs": [
    {
     "name": "stdout",
     "output_type": "stream",
     "text": [
      "torch.Size([182625, 3]) torch.Size([182625])\n",
      "torch.Size([22655, 3]) torch.Size([22655])\n",
      "torch.Size([22866, 3]) torch.Size([22866])\n"
     ]
    }
   ],
   "source": [
    "#build dataset\n",
    "def build_dataset(words):\n",
    "    X, Y = [], []\n",
    "    \n",
    "    for w in words:\n",
    "    \n",
    "        #print(w)\n",
    "        context = [0] * block_size\n",
    "        for ch in w + '.':\n",
    "            ix = stoi[ch]\n",
    "            X.append(context)\n",
    "            Y.append(ix)\n",
    "            #print(''.join(itos[i] for i in context), '--->', itos[ix])\n",
    "            context = context[1:] + [ix] #crop and append\n",
    "    \n",
    "    X = torch.tensor(X, device=device)\n",
    "    Y = torch.tensor(Y, device=device)\n",
    "    print(X.shape, Y.shape)\n",
    "    return X, Y\n",
    "\n",
    "import random\n",
    "random.seed(42)\n",
    "random.shuffle(words)\n",
    "n1 = int(0.8*len(words))\n",
    "n2 = int(0.9*len(words))\n",
    "\n",
    "# training split, dev/validation split, test split\n",
    "# 80%, 10%, 10%\n",
    "Xtr, Ytr = build_dataset(words[:n1])\n",
    "Xdev, Ydev = build_dataset(words[n1:n2])\n",
    "Xte, Yte = build_dataset(words[n2:])"
   ]
  },
  {
   "cell_type": "code",
   "execution_count": 83,
   "metadata": {},
   "outputs": [
    {
     "name": "stdout",
     "output_type": "stream",
     "text": [
      "11897\n"
     ]
    }
   ],
   "source": [
    "g = torch.Generator().manual_seed(2147483647) #deterministic reproducibility\n",
    "C = torch.randn((vocab_size,n_embd),                generator=g).to(device) \n",
    "\n",
    "# fix tanh layer too saturated at init by manual factoring\n",
    "W1 = torch.randn((n_embd * block_size, n_hidden),   generator=g).to(device) * 0.2 #to combat -1 and 1 concentration for 1\n",
    "b1 = torch.randn(n_hidden,                          generator=g).to(device) * 0.01 #same as above\n",
    "\n",
    "# fix softmax confidently wrong by manual factoring\n",
    "W2 = torch.randn((n_hidden, vocab_size),            generator=g).to(device) * 0.01 #to combat initial high loss, which should be -log(1/27)=3.2958.\n",
    "b2 = torch.randn(vocab_size,                        generator=g).to(device) * 0 #to combat initial high loss\n",
    "#Note W2 * 0 will result in a initial loss of 3.2958, that but it is problematic.\n",
    "\n",
    "parameters = [C, W1, b1, W2, b2]\n",
    "print(sum(p.nelement() for p in parameters))\n",
    "for p in parameters:\n",
    "        p.requires_grad = True\n"
   ]
  },
  {
   "cell_type": "code",
   "execution_count": 84,
   "metadata": {},
   "outputs": [
    {
     "name": "stdout",
     "output_type": "stream",
     "text": [
      "Progressed 100% at Step 200000 of 200000 with loss 2.4017\r"
     ]
    }
   ],
   "source": [
    "lossi = []\n",
    "\n",
    "pp = 0\n",
    "for i in range(max_steps):\n",
    "\n",
    "    #minibatch\n",
    "    ix = torch.randint(0, Xtr.shape[0], (batch_size,), generator=g, device=device)\n",
    "    Xb, Yb = Xtr[ix], Ytr[ix] #batch X, Y\n",
    "\n",
    "    #forward pass\n",
    "    emb = C[Xb] #embed the characters in vectors\n",
    "    embcat = emb.view(emb.shape[0], -1) #concatanate the vectors\n",
    "    hpreact = embcat @ W1 + b1 #hidden layer pre-activation\n",
    "    h = torch.tanh(hpreact) #hidden layer\n",
    "    logits = h @ W2 + b2 #output layer\n",
    "    loss = F.cross_entropy(logits, Ytr[ix]) #loss function\n",
    "\n",
    "    #backward pass\n",
    "    for p in parameters:\n",
    "        p.grad = None\n",
    "    loss.backward()\n",
    "\n",
    "    #update\n",
    "    lr = 0.1 if i < 100000 else 0.01 #step learning rate decay\n",
    "    for p in parameters:\n",
    "        p.data += -lr * p.grad\n",
    "\n",
    "    #print progress\n",
    "    currentStep = i + 1\n",
    "    totalNoSteps = max_steps\n",
    "    currentProgress = int(float(currentStep) / float(totalNoSteps) *100)\n",
    "    reportingStep = 2\n",
    "    if (currentStep > pp) and (currentProgress % reportingStep == 0):\n",
    "        progress = \"Progressed \" + str(currentProgress) + \"%\" + \" at Step \" + str(currentStep) + \" of \" + str(totalNoSteps) + \" with loss \" + f'{loss.item():.4f}'\n",
    "        print(progress, end=\"\\r\")\n",
    "        pp = currentStep + (totalNoSteps / 100) - reportingStep #cut-off until next step\n",
    "\n",
    "    #track stats\n",
    "    lossi.append(loss.log10().item())\n",
    "\n",
    "    #break #to see initial loss"
   ]
  },
  {
   "cell_type": "code",
   "execution_count": 80,
   "metadata": {},
   "outputs": [
    {
     "data": {
      "text/plain": [
       "(array([143., 172., 172., 161., 142., 151., 133., 116., 116., 143.,  95.,\n",
       "        104., 126., 111., 119.,  91.,  86.,  90., 115., 100., 112., 122.,\n",
       "        111.,  77., 103., 119., 100., 106.,  91.,  90., 117., 114., 116.,\n",
       "        115., 107., 131., 111., 109., 114., 118., 142., 127., 162., 169.,\n",
       "        152., 197., 184., 192., 208., 198.]),\n",
       " array([-9.98924255e-01, -9.58988956e-01, -9.19053657e-01, -8.79118358e-01,\n",
       "        -8.39183059e-01, -7.99247760e-01, -7.59312460e-01, -7.19377161e-01,\n",
       "        -6.79441862e-01, -6.39506563e-01, -5.99571264e-01, -5.59635965e-01,\n",
       "        -5.19700665e-01, -4.79765366e-01, -4.39830067e-01, -3.99894768e-01,\n",
       "        -3.59959469e-01, -3.20024170e-01, -2.80088871e-01, -2.40153571e-01,\n",
       "        -2.00218272e-01, -1.60282973e-01, -1.20347674e-01, -8.04123747e-02,\n",
       "        -4.04770756e-02, -5.41776419e-04,  3.93935227e-02,  7.93288219e-02,\n",
       "         1.19264121e-01,  1.59199420e-01,  1.99134719e-01,  2.39070019e-01,\n",
       "         2.79005318e-01,  3.18940617e-01,  3.58875916e-01,  3.98811215e-01,\n",
       "         4.38746514e-01,  4.78681813e-01,  5.18617113e-01,  5.58552412e-01,\n",
       "         5.98487711e-01,  6.38423010e-01,  6.78358309e-01,  7.18293608e-01,\n",
       "         7.58228908e-01,  7.98164207e-01,  8.38099506e-01,  8.78034805e-01,\n",
       "         9.17970104e-01,  9.57905403e-01,  9.97840703e-01]),\n",
       " <BarContainer object of 50 artists>)"
      ]
     },
     "execution_count": 80,
     "metadata": {},
     "output_type": "execute_result"
    },
    {
     "data": {
      "image/png": "[encoded data removed]",
      "text/plain": [
       "<Figure size 640x480 with 1 Axes>"
      ]
     },
     "metadata": {},
     "output_type": "display_data"
    }
   ],
   "source": [
    "plt.hist(h.view(-1).tolist(),50) #without adjustmens on W1 and B1, this was resulting in concentration of -1 and 1 values"
   ]
  },
  {
   "cell_type": "code",
   "execution_count": 81,
   "metadata": {},
   "outputs": [
    {
     "data": {
      "image/png": "[encoded data removed]",
      "text/plain": [
       "<Figure size 640x480 with 1 Axes>"
      ]
     },
     "metadata": {},
     "output_type": "display_data"
    }
   ],
   "source": [
    "plt.hist(hpreact.view(-1).tolist(),50); #without adjustmens on W1 and B1, too large spread here causing above mentioned -1 and 1 concentration of h"
   ]
  },
  {
   "cell_type": "code",
   "execution_count": 82,
   "metadata": {},
   "outputs": [
    {
     "data": {
      "text/plain": [
       "<matplotlib.image.AxesImage at 0x19083840b80>"
      ]
     },
     "execution_count": 82,
     "metadata": {},
     "output_type": "execute_result"
    },
    {
     "data": {
      "image/png": "[encoded data removed]",
      "text/plain": [
       "<Figure size 2000x1000 with 1 Axes>"
      ]
     },
     "metadata": {},
     "output_type": "display_data"
    }
   ],
   "source": [
    "plt.figure(figsize=(20,10))\n",
    "plt.imshow(h.abs() > 0.99, cmap='gray', interpolation='nearest') #how often h is in the flat region >0.99 resulting in 0*grad in backprop, white dots show TRUE\n",
    "#if a column is all white, this is a dead neuron since it can never be activated during backprop\n",
    "#before adjustments on W1 and b1, this was resulting in many white dots and potentially dead neurons during init or training"
   ]
  },
  {
   "cell_type": "code",
   "execution_count": 85,
   "metadata": {},
   "outputs": [
    {
     "data": {
      "text/plain": [
       "[<matplotlib.lines.Line2D at 0x190838b1930>]"
      ]
     },
     "execution_count": 85,
     "metadata": {},
     "output_type": "execute_result"
    },
    {
     "data": {
      "image/png": "[encoded data removed]",
      "text/plain": [
       "<Figure size 640x480 with 1 Axes>"
      ]
     },
     "metadata": {},
     "output_type": "display_data"
    }
   ],
   "source": [
    "plt.plot(lossi) #no more hockey stick due to high initial loss"
   ]
  },
  {
   "cell_type": "code",
   "execution_count": 86,
   "metadata": {},
   "outputs": [
    {
     "name": "stdout",
     "output_type": "stream",
     "text": [
      "Losses @ Training & Validation Sets: 2.0356 & 2.1027\n"
     ]
    }
   ],
   "source": [
    "@torch.no_grad() #this decorator disables gradient tracking for below function - efficiency since no backward pass\n",
    "def split_loss(split):\n",
    "    x,y = {\n",
    "        'train': (Xtr, Ytr),\n",
    "        'val': (Xdev, Ydev),\n",
    "        'test': (Xte, Yte),\n",
    "    }[split]\n",
    "    emb = C[x] #(N, block_size, n_embd)\n",
    "    embcat = emb.view(emb.shape[0], -1) #concat into (N, block_size * n_embd)\n",
    "    h = torch.tanh(embcat @ W1 + b1) # (N, n_hidden)  \n",
    "    logits = h @ W2 + b2 # (N. vocab_size)\n",
    "    loss = F.cross_entropy(logits, y) #loss function\n",
    "    #print(split, loss.item())\n",
    "    return loss\n",
    "\n",
    "lossT = split_loss('train')\n",
    "lossD = split_loss('val')\n",
    "lossAll = \"Losses @ Training & Validation Sets: \" + f'{lossT.item():.4f}' + \" & \" +  f'{lossD.item():.4f}'\n",
    "print(lossAll)"
   ]
  },
  {
   "cell_type": "code",
   "execution_count": 87,
   "metadata": {},
   "outputs": [
    {
     "data": {
      "text/markdown": [
       "Below setup with `11897`no. parameters, results in Losses of ~`2.0356` for training / ~`2.1027` for dev/validation data sets:\n",
       "\n",
       "`block_size = 3 | n_embd = 10 | n_hidden = 200 | batch_size = 32 | max_steps = 200000`\n",
       "\n",
       ">`block_size` is the context length; how many characters do we take to predict the next one),<br>\n",
       ">`n_embd` is the dimensionality of the character embedding vectors,<br>\n",
       ">`n_hidden` number of neurons in the hidden layer of the MLP,<br>\n",
       ">`batch_size` is minibatch size,<br>\n",
       ">`max_steps` is number steps in each loop for gradient descent\n",
       "\n",
       "Generated words with Uniqueness Score of **~95%** and other stats as follows:\n",
       "\n",
       "| First Run|\n",
       "|---|\n",
       "| dex, mariah, makilah, tyhammonie, traine, kayk, kata, kreez, pebutharminton, moriella, kinzleed, akareedensedey, niavion, rosbur, hunaven, tahiro, kaspe, breen, hayah, isa+ |\n",
       "| 1 no. (+ marked) generated words are exact copies from the training set; uniqueness score 19/20, 95%. |\n",
       "| Losses @ Training & Validation Sets: 2.0356 & 2.1027 |\n",
       "<hr/>\n"
      ],
      "text/plain": [
       "<IPython.core.display.Markdown object>"
      ]
     },
     "metadata": {},
     "output_type": "display_data"
    }
   ],
   "source": [
    "#sampling\n",
    "\n",
    "#sample 10 time for maximum quality\n",
    "bestquality = 0.0\n",
    "bestgenwords = \"\"\n",
    "bestcountexct = 0\n",
    "\n",
    "for rand in range(11):\n",
    "    g = torch.Generator().manual_seed(2147483647+rand)\n",
    "\n",
    "    generation = []\n",
    "    numberofgen = 20\n",
    "    for i in range(numberofgen):\n",
    "\n",
    "        out = []\n",
    "        context = [0] * block_size #start with dot\n",
    "        while True:\n",
    "            emb = C[torch.tensor([context])] # (1, block_size, d)\n",
    "            h = torch.tanh(emb.view(1, -1) @ W1 + b1)\n",
    "            logits = h @ W2 + b2\n",
    "            probs = F.softmax(logits, dim=1)\n",
    "            ix = torch.multinomial(probs, num_samples=1, generator=g).item()\n",
    "            context = context[1:] + [ix]\n",
    "            out.append(ix)\n",
    "            if ix == 0:\n",
    "                break\n",
    "\n",
    "        generated = ''.join(itos[i] for i in out).rstrip(\".\")\n",
    "        generation.append(generated) \n",
    "\n",
    "    #find the words which already existed in the training set\n",
    "    genwords = \"\"\n",
    "    countexct = 0\n",
    "    #c = [0 for x in range(0, len(generation))] #just marking the index\n",
    "    for i, x in enumerate(generation):\n",
    "        if len(genwords) > 0:\n",
    "            genwords += \", \"\n",
    "\n",
    "        genwords += x\n",
    "\n",
    "        if x in words[:n1]:\n",
    "            #c[i] = 1\n",
    "            countexct += 1\n",
    "            genwords += \"+\"\n",
    "\n",
    "    quality = (100*(1.0 - float(countexct)/float(numberofgen)))\n",
    "\n",
    "    if quality > bestquality:\n",
    "        bestgenwords = genwords\n",
    "        bestcountexct = countexct\n",
    "        bestquality = quality\n",
    "\n",
    "bestcount = str(bestcountexct) + \" no. (+ marked) generated words are exact copies from the training set; uniqueness score \" + str(numberofgen-bestcountexct) + \"/\" + str(numberofgen) + \", \" + f'{bestquality:.0f}' + \"%.\"\n",
    "\n",
    "#Markdown output\n",
    "from IPython.display import display, Markdown, Latex\n",
    "output = \"\"\"\\\n",
    "Below setup with `{parameters}`no. parameters, results in Losses of ~`{lossT}` for training / ~`{lossD}` for dev/validation data sets:\n",
    "\n",
    "`block_size = {block_size} | n_embd = {n_embd} | n_hidden = {n_hidden} | batch_size = {batch_size} | max_steps = {max_steps}`\n",
    "\n",
    ">`block_size` is the context length; how many characters do we take to predict the next one),<br>\n",
    ">`n_embd` is the dimensionality of the character embedding vectors,<br>\n",
    ">`n_hidden` number of neurons in the hidden layer of the MLP,<br>\n",
    ">`batch_size` is minibatch size,<br>\n",
    ">`max_steps` is number steps in each loop for gradient descent\n",
    "\n",
    "Generated words with Uniqueness Score of **~{bestquality}%** and other stats as follows:\n",
    "\n",
    "| First Run|\n",
    "|---|\n",
    "| {bestgen1} |\n",
    "| {bestcount1} |\n",
    "| {loss1} |\n",
    "<hr/>\n",
    "\"\"\".format(\n",
    "    parameters=sum(p.nelement() for p in parameters),\n",
    "    lossT=f'{lossT:.4f}',\n",
    "    lossD=f'{lossD:.4f}',\n",
    "    block_size = block_size,\n",
    "    n_embd = n_embd,\n",
    "    n_hidden = n_hidden,\n",
    "    batch_size = batch_size,\n",
    "    max_steps = max_steps, \n",
    "    bestquality = f'{bestquality:.0f}',\n",
    "    bestgen1 = bestgenwords,\n",
    "    bestcount1 = bestcount,\n",
    "    loss1 = lossAll,\n",
    ")\n",
    "display(Markdown(output))\n",
    "\n",
    "#minute mark 27:53"
   ]
  }
 ],
 "metadata": {
  "kernelspec": {
   "display_name": "Python 3.10.8 64-bit",
   "language": "python",
   "name": "python3"
  },
  "language_info": {
   "codemirror_mode": {
    "name": "ipython",
    "version": 3
   },
   "file_extension": ".py",
   "mimetype": "text/x-python",
   "name": "python",
   "nbconvert_exporter": "python",
   "pygments_lexer": "ipython3",
   "version": "3.10.8"
  },
  "orig_nbformat": 4,
  "vscode": {
   "interpreter": {
    "hash": "26de051ba29f2982a8de78e945f0abaf191376122a1563185a90213a26c5da77"
   }
  }
 },
 "nbformat": 4,
 "nbformat_minor": 2
}
