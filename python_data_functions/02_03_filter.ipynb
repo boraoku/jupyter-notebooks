{
 "cells": [
  {
   "cell_type": "code",
   "execution_count": 1,
   "metadata": {},
   "outputs": [],
   "source": [
    "# import relevant modules\n",
    "import pandas as pd"
   ]
  },
  {
   "cell_type": "code",
   "execution_count": 37,
   "metadata": {},
   "outputs": [],
   "source": [
    "# read grades dataset, save as a pandas dataframe\n",
    "grades = pd.read_csv('grades.csv')"
   ]
  },
  {
   "cell_type": "code",
   "execution_count": 36,
   "metadata": {},
   "outputs": [
    {
     "data": {
      "text/html": [
       "<div>\n",
       "<style scoped>\n",
       "    .dataframe tbody tr th:only-of-type {\n",
       "        vertical-align: middle;\n",
       "    }\n",
       "\n",
       "    .dataframe tbody tr th {\n",
       "        vertical-align: top;\n",
       "    }\n",
       "\n",
       "    .dataframe thead th {\n",
       "        text-align: right;\n",
       "    }\n",
       "</style>\n",
       "<table border=\"1\" class=\"dataframe\">\n",
       "  <thead>\n",
       "    <tr style=\"text-align: right;\">\n",
       "      <th></th>\n",
       "      <th>exam</th>\n",
       "      <th>student_id</th>\n",
       "      <th>grade</th>\n",
       "    </tr>\n",
       "  </thead>\n",
       "  <tbody>\n",
       "    <tr>\n",
       "      <th>0</th>\n",
       "      <td>1</td>\n",
       "      <td>1</td>\n",
       "      <td>86.0</td>\n",
       "    </tr>\n",
       "  </tbody>\n",
       "</table>\n",
       "</div>"
      ],
      "text/plain": [
       "   exam  student_id  grade\n",
       "0     1           1   86.0"
      ]
     },
     "execution_count": 36,
     "metadata": {},
     "output_type": "execute_result"
    }
   ],
   "source": [
    "# display first few rows of grades\n",
    "grades"
   ]
  },
  {
   "cell_type": "code",
   "execution_count": 39,
   "metadata": {},
   "outputs": [
    {
     "name": "stdout",
     "output_type": "stream",
     "text": [
      "    exam  student_id  grade\n",
      "0      1           1   86.0\n",
      "10     2           1   79.0\n",
      "20     3           1   78.0\n",
      "30     4           1    NaN\n",
      "40     5           1   90.0\n",
      "exam           3.00\n",
      "student_id     1.00\n",
      "grade         83.25\n",
      "dtype: float64\n",
      "exam           3.00\n",
      "student_id     5.50\n",
      "grade         75.76\n",
      "dtype: float64\n"
     ]
    }
   ],
   "source": [
    "grades_coloumn = grades.loc[grades['student_id'] == 1]\n",
    "print(grades_coloumn)\n",
    "mean_grade = grades_coloumn.mean()\n",
    "print(mean_grade)\n",
    "mean_grade_zeros = grades.fillna(0).mean()\n",
    "print(mean_grade_zeros)"
   ]
  },
  {
   "cell_type": "code",
   "execution_count": 18,
   "metadata": {},
   "outputs": [],
   "source": [
    "def mean_atleast_70(student_id):\n",
    "    \n",
    "    \"\"\"Compute mean grade across all exams for student with given student_id.\n",
    "    Treat missing exam grades as zeros.\n",
    "    If mean grade is atleast 70, return True. Otherwise, return False.\"\"\"\n",
    "    \n",
    "    mean_grade = grades.loc[grades['student_id'] == student_id]['grade'].fillna(0).mean()\n",
    "    return mean_grade >= 70"
   ]
  },
  {
   "cell_type": "code",
   "execution_count": 23,
   "metadata": {},
   "outputs": [
    {
     "name": "stdout",
     "output_type": "stream",
     "text": [
      "test passed\n"
     ]
    }
   ],
   "source": [
    "# test mean_grade on student_id 1\n",
    "assert mean_atleast_70(1) == False, 'test failed'\n",
    "print('test passed')"
   ]
  },
  {
   "cell_type": "code",
   "execution_count": 8,
   "metadata": {},
   "outputs": [
    {
     "data": {
      "text/plain": [
       "array([ 1,  2,  3,  4,  5,  6,  7,  8,  9, 10])"
      ]
     },
     "execution_count": 8,
     "metadata": {},
     "output_type": "execute_result"
    }
   ],
   "source": [
    "# sequence containing all distinct student ids\n",
    "student_ids = grades['student_id'].unique()\n",
    "student_ids"
   ]
  },
  {
   "cell_type": "code",
   "execution_count": 24,
   "metadata": {},
   "outputs": [
    {
     "data": {
      "text/plain": [
       "[3, 5, 7, 8, 9, 10]"
      ]
     },
     "execution_count": 24,
     "metadata": {},
     "output_type": "execute_result"
    }
   ],
   "source": [
    "list(filter(mean_atleast_70, student_ids))"
   ]
  },
  {
   "cell_type": "code",
   "execution_count": null,
   "metadata": {},
   "outputs": [],
   "source": []
  }
 ],
 "metadata": {
  "kernelspec": {
   "display_name": "Python 3",
   "language": "python",
   "name": "python3"
  },
  "language_info": {
   "codemirror_mode": {
    "name": "ipython",
    "version": 3
   },
   "file_extension": ".py",
   "mimetype": "text/x-python",
   "name": "python",
   "nbconvert_exporter": "python",
   "pygments_lexer": "ipython3",
   "version": "3.10.9"
  }
 },
 "nbformat": 4,
 "nbformat_minor": 4
}
